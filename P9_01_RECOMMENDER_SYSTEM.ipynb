{
  "nbformat": 4,
  "nbformat_minor": 0,
  "metadata": {
    "colab": {
      "name": "P9_01_RECOMMENDER_SYSTEM.ipynb",
      "provenance": [],
      "collapsed_sections": [],
      "machine_shape": "hm"
    },
    "kernel_info": {
      "name": "python3-azureml"
    },
    "kernelspec": {
      "name": "python3",
      "display_name": "Python 3"
    },
    "nteract": {
      "version": "nteract-front-end@1.0.0"
    },
    "language_info": {
      "name": "python"
    },
    "accelerator": "GPU",
    "widgets": {
      "application/vnd.jupyter.widget-state+json": {
        "684d08de36e6404abd094b4c52185bca": {
          "model_module": "@jupyter-widgets/controls",
          "model_name": "HBoxModel",
          "model_module_version": "1.5.0",
          "state": {
            "_view_name": "HBoxView",
            "_dom_classes": [],
            "_model_name": "HBoxModel",
            "_view_module": "@jupyter-widgets/controls",
            "_model_module_version": "1.5.0",
            "_view_count": null,
            "_view_module_version": "1.5.0",
            "box_style": "",
            "layout": "IPY_MODEL_2522af8a6a954424b7a6b1d61fe7cb02",
            "_model_module": "@jupyter-widgets/controls",
            "children": [
              "IPY_MODEL_8f2330e74d3f45209dc4a5c59e0228d0",
              "IPY_MODEL_c50ef9c244c94746b501b55b54392332",
              "IPY_MODEL_aa55e9f70af445418f4902650a355dd7"
            ]
          }
        },
        "2522af8a6a954424b7a6b1d61fe7cb02": {
          "model_module": "@jupyter-widgets/base",
          "model_name": "LayoutModel",
          "model_module_version": "1.2.0",
          "state": {
            "_view_name": "LayoutView",
            "grid_template_rows": null,
            "right": null,
            "justify_content": null,
            "_view_module": "@jupyter-widgets/base",
            "overflow": null,
            "_model_module_version": "1.2.0",
            "_view_count": null,
            "flex_flow": null,
            "width": null,
            "min_width": null,
            "border": null,
            "align_items": null,
            "bottom": null,
            "_model_module": "@jupyter-widgets/base",
            "top": null,
            "grid_column": null,
            "overflow_y": null,
            "overflow_x": null,
            "grid_auto_flow": null,
            "grid_area": null,
            "grid_template_columns": null,
            "flex": null,
            "_model_name": "LayoutModel",
            "justify_items": null,
            "grid_row": null,
            "max_height": null,
            "align_content": null,
            "visibility": null,
            "align_self": null,
            "height": null,
            "min_height": null,
            "padding": null,
            "grid_auto_rows": null,
            "grid_gap": null,
            "max_width": null,
            "order": null,
            "_view_module_version": "1.2.0",
            "grid_template_areas": null,
            "object_position": null,
            "object_fit": null,
            "grid_auto_columns": null,
            "margin": null,
            "display": null,
            "left": null
          }
        },
        "8f2330e74d3f45209dc4a5c59e0228d0": {
          "model_module": "@jupyter-widgets/controls",
          "model_name": "HTMLModel",
          "model_module_version": "1.5.0",
          "state": {
            "_view_name": "HTMLView",
            "style": "IPY_MODEL_5031077857a642989649d53b8c67b3f8",
            "_dom_classes": [],
            "description": "",
            "_model_name": "HTMLModel",
            "placeholder": "​",
            "_view_module": "@jupyter-widgets/controls",
            "_model_module_version": "1.5.0",
            "value": "100%",
            "_view_count": null,
            "_view_module_version": "1.5.0",
            "description_tooltip": null,
            "_model_module": "@jupyter-widgets/controls",
            "layout": "IPY_MODEL_5791322aa30543c4832e8b13769c2a1c"
          }
        },
        "c50ef9c244c94746b501b55b54392332": {
          "model_module": "@jupyter-widgets/controls",
          "model_name": "FloatProgressModel",
          "model_module_version": "1.5.0",
          "state": {
            "_view_name": "ProgressView",
            "style": "IPY_MODEL_3fc20dd9758c48a6a74d7d6471e1ec16",
            "_dom_classes": [],
            "description": "",
            "_model_name": "FloatProgressModel",
            "bar_style": "success",
            "max": 10,
            "_view_module": "@jupyter-widgets/controls",
            "_model_module_version": "1.5.0",
            "value": 10,
            "_view_count": null,
            "_view_module_version": "1.5.0",
            "orientation": "horizontal",
            "min": 0,
            "description_tooltip": null,
            "_model_module": "@jupyter-widgets/controls",
            "layout": "IPY_MODEL_421c05901bb949fa9374b3e87688bfca"
          }
        },
        "aa55e9f70af445418f4902650a355dd7": {
          "model_module": "@jupyter-widgets/controls",
          "model_name": "HTMLModel",
          "model_module_version": "1.5.0",
          "state": {
            "_view_name": "HTMLView",
            "style": "IPY_MODEL_3494373b921e4ae59368cac9deeff20a",
            "_dom_classes": [],
            "description": "",
            "_model_name": "HTMLModel",
            "placeholder": "​",
            "_view_module": "@jupyter-widgets/controls",
            "_model_module_version": "1.5.0",
            "value": " 10/10 [00:01&lt;00:00,  5.68it/s]",
            "_view_count": null,
            "_view_module_version": "1.5.0",
            "description_tooltip": null,
            "_model_module": "@jupyter-widgets/controls",
            "layout": "IPY_MODEL_9d03e9e39d2e4605a80c27ea77bb61e0"
          }
        },
        "5031077857a642989649d53b8c67b3f8": {
          "model_module": "@jupyter-widgets/controls",
          "model_name": "DescriptionStyleModel",
          "model_module_version": "1.5.0",
          "state": {
            "_view_name": "StyleView",
            "_model_name": "DescriptionStyleModel",
            "description_width": "",
            "_view_module": "@jupyter-widgets/base",
            "_model_module_version": "1.5.0",
            "_view_count": null,
            "_view_module_version": "1.2.0",
            "_model_module": "@jupyter-widgets/controls"
          }
        },
        "5791322aa30543c4832e8b13769c2a1c": {
          "model_module": "@jupyter-widgets/base",
          "model_name": "LayoutModel",
          "model_module_version": "1.2.0",
          "state": {
            "_view_name": "LayoutView",
            "grid_template_rows": null,
            "right": null,
            "justify_content": null,
            "_view_module": "@jupyter-widgets/base",
            "overflow": null,
            "_model_module_version": "1.2.0",
            "_view_count": null,
            "flex_flow": null,
            "width": null,
            "min_width": null,
            "border": null,
            "align_items": null,
            "bottom": null,
            "_model_module": "@jupyter-widgets/base",
            "top": null,
            "grid_column": null,
            "overflow_y": null,
            "overflow_x": null,
            "grid_auto_flow": null,
            "grid_area": null,
            "grid_template_columns": null,
            "flex": null,
            "_model_name": "LayoutModel",
            "justify_items": null,
            "grid_row": null,
            "max_height": null,
            "align_content": null,
            "visibility": null,
            "align_self": null,
            "height": null,
            "min_height": null,
            "padding": null,
            "grid_auto_rows": null,
            "grid_gap": null,
            "max_width": null,
            "order": null,
            "_view_module_version": "1.2.0",
            "grid_template_areas": null,
            "object_position": null,
            "object_fit": null,
            "grid_auto_columns": null,
            "margin": null,
            "display": null,
            "left": null
          }
        },
        "3fc20dd9758c48a6a74d7d6471e1ec16": {
          "model_module": "@jupyter-widgets/controls",
          "model_name": "ProgressStyleModel",
          "model_module_version": "1.5.0",
          "state": {
            "_view_name": "StyleView",
            "_model_name": "ProgressStyleModel",
            "description_width": "",
            "_view_module": "@jupyter-widgets/base",
            "_model_module_version": "1.5.0",
            "_view_count": null,
            "_view_module_version": "1.2.0",
            "bar_color": null,
            "_model_module": "@jupyter-widgets/controls"
          }
        },
        "421c05901bb949fa9374b3e87688bfca": {
          "model_module": "@jupyter-widgets/base",
          "model_name": "LayoutModel",
          "model_module_version": "1.2.0",
          "state": {
            "_view_name": "LayoutView",
            "grid_template_rows": null,
            "right": null,
            "justify_content": null,
            "_view_module": "@jupyter-widgets/base",
            "overflow": null,
            "_model_module_version": "1.2.0",
            "_view_count": null,
            "flex_flow": null,
            "width": null,
            "min_width": null,
            "border": null,
            "align_items": null,
            "bottom": null,
            "_model_module": "@jupyter-widgets/base",
            "top": null,
            "grid_column": null,
            "overflow_y": null,
            "overflow_x": null,
            "grid_auto_flow": null,
            "grid_area": null,
            "grid_template_columns": null,
            "flex": null,
            "_model_name": "LayoutModel",
            "justify_items": null,
            "grid_row": null,
            "max_height": null,
            "align_content": null,
            "visibility": null,
            "align_self": null,
            "height": null,
            "min_height": null,
            "padding": null,
            "grid_auto_rows": null,
            "grid_gap": null,
            "max_width": null,
            "order": null,
            "_view_module_version": "1.2.0",
            "grid_template_areas": null,
            "object_position": null,
            "object_fit": null,
            "grid_auto_columns": null,
            "margin": null,
            "display": null,
            "left": null
          }
        },
        "3494373b921e4ae59368cac9deeff20a": {
          "model_module": "@jupyter-widgets/controls",
          "model_name": "DescriptionStyleModel",
          "model_module_version": "1.5.0",
          "state": {
            "_view_name": "StyleView",
            "_model_name": "DescriptionStyleModel",
            "description_width": "",
            "_view_module": "@jupyter-widgets/base",
            "_model_module_version": "1.5.0",
            "_view_count": null,
            "_view_module_version": "1.2.0",
            "_model_module": "@jupyter-widgets/controls"
          }
        },
        "9d03e9e39d2e4605a80c27ea77bb61e0": {
          "model_module": "@jupyter-widgets/base",
          "model_name": "LayoutModel",
          "model_module_version": "1.2.0",
          "state": {
            "_view_name": "LayoutView",
            "grid_template_rows": null,
            "right": null,
            "justify_content": null,
            "_view_module": "@jupyter-widgets/base",
            "overflow": null,
            "_model_module_version": "1.2.0",
            "_view_count": null,
            "flex_flow": null,
            "width": null,
            "min_width": null,
            "border": null,
            "align_items": null,
            "bottom": null,
            "_model_module": "@jupyter-widgets/base",
            "top": null,
            "grid_column": null,
            "overflow_y": null,
            "overflow_x": null,
            "grid_auto_flow": null,
            "grid_area": null,
            "grid_template_columns": null,
            "flex": null,
            "_model_name": "LayoutModel",
            "justify_items": null,
            "grid_row": null,
            "max_height": null,
            "align_content": null,
            "visibility": null,
            "align_self": null,
            "height": null,
            "min_height": null,
            "padding": null,
            "grid_auto_rows": null,
            "grid_gap": null,
            "max_width": null,
            "order": null,
            "_view_module_version": "1.2.0",
            "grid_template_areas": null,
            "object_position": null,
            "object_fit": null,
            "grid_auto_columns": null,
            "margin": null,
            "display": null,
            "left": null
          }
        }
      }
    }
  },
  "cells": [
    {
      "cell_type": "markdown",
      "metadata": {
        "id": "CGQ7U8Ntmj1x"
      },
      "source": [
        "# 1. Préparation du jeu de données"
      ]
    },
    {
      "cell_type": "markdown",
      "metadata": {
        "id": "pdaAfiVYI50x"
      },
      "source": [
        "## a) Chargement des fichiers utiles\n",
        "* Connexion au drive Google"
      ]
    },
    {
      "cell_type": "code",
      "metadata": {
        "colab": {
          "base_uri": "https://localhost:8080/"
        },
        "id": "tgzfzZs8DzoC",
        "outputId": "568506b0-2ec5-43b1-da57-415a4f20c77e"
      },
      "source": [
        "from google.colab import drive\n",
        "drive.mount('/content/drive', force_remount=True)"
      ],
      "execution_count": null,
      "outputs": [
        {
          "output_type": "stream",
          "name": "stdout",
          "text": [
            "Mounted at /content/drive\n"
          ]
        }
      ]
    },
    {
      "cell_type": "markdown",
      "metadata": {
        "id": "n1Sgp8ava_vb"
      },
      "source": [
        "* Nous utilisons le GPU permettant une meilleure exécution des modèles"
      ]
    },
    {
      "cell_type": "code",
      "metadata": {
        "id": "hCx-8f1UY4N_",
        "colab": {
          "base_uri": "https://localhost:8080/",
          "height": 35
        },
        "outputId": "feb85a1d-0681-4c17-dbf5-f3ec1bdf9ed3"
      },
      "source": [
        "import tensorflow as tf\n",
        "tf.test.gpu_device_name()"
      ],
      "execution_count": null,
      "outputs": [
        {
          "output_type": "execute_result",
          "data": {
            "application/vnd.google.colaboratory.intrinsic+json": {
              "type": "string"
            },
            "text/plain": [
              "'/device:GPU:0'"
            ]
          },
          "metadata": {},
          "execution_count": 2
        }
      ]
    },
    {
      "cell_type": "code",
      "metadata": {
        "id": "Fe8zNJAP9SBc",
        "colab": {
          "base_uri": "https://localhost:8080/"
        },
        "outputId": "ff9cd153-f645-42f8-8660-fbefa57b75b4"
      },
      "source": [
        "!pip install scikit-surprise"
      ],
      "execution_count": null,
      "outputs": [
        {
          "output_type": "stream",
          "name": "stdout",
          "text": [
            "Collecting scikit-surprise\n",
            "  Downloading scikit-surprise-1.1.1.tar.gz (11.8 MB)\n",
            "\u001b[K     |████████████████████████████████| 11.8 MB 7.4 MB/s \n",
            "\u001b[?25hRequirement already satisfied: joblib>=0.11 in /usr/local/lib/python3.7/dist-packages (from scikit-surprise) (1.0.1)\n",
            "Requirement already satisfied: numpy>=1.11.2 in /usr/local/lib/python3.7/dist-packages (from scikit-surprise) (1.19.5)\n",
            "Requirement already satisfied: scipy>=1.0.0 in /usr/local/lib/python3.7/dist-packages (from scikit-surprise) (1.4.1)\n",
            "Requirement already satisfied: six>=1.10.0 in /usr/local/lib/python3.7/dist-packages (from scikit-surprise) (1.15.0)\n",
            "Building wheels for collected packages: scikit-surprise\n",
            "  Building wheel for scikit-surprise (setup.py) ... \u001b[?25l\u001b[?25hdone\n",
            "  Created wheel for scikit-surprise: filename=scikit_surprise-1.1.1-cp37-cp37m-linux_x86_64.whl size=1619409 sha256=dff79d3906972727525463963acafbd7bbce6182c6298dbe4cb20d04cb42589f\n",
            "  Stored in directory: /root/.cache/pip/wheels/76/44/74/b498c42be47b2406bd27994e16c5188e337c657025ab400c1c\n",
            "Successfully built scikit-surprise\n",
            "Installing collected packages: scikit-surprise\n",
            "Successfully installed scikit-surprise-1.1.1\n"
          ]
        }
      ]
    },
    {
      "cell_type": "markdown",
      "metadata": {
        "id": "vkzpjU2y0rax"
      },
      "source": [
        "* Chargement des fichiers **d'articles** et de **clicks** des utilisateurs en DataFrame "
      ]
    },
    {
      "cell_type": "code",
      "metadata": {
        "id": "LqIvof3Kmj1s"
      },
      "source": [
        "import numpy as np\n",
        "import pandas as pd\n",
        "from pandas import DataFrame\n",
        "from matplotlib import pyplot as plt\n",
        "import seaborn as sns\n",
        "import missingno as msno\n",
        "import warnings\n",
        "\n",
        "from sklearn.cluster import KMeans\n",
        "from sklearn import linear_model\n",
        "from sklearn import decomposition\n",
        "from sklearn import preprocessing\n",
        "from sklearn import kernel_ridge\n",
        "from sklearn import metrics\n",
        "from sklearn.preprocessing import LabelEncoder\n",
        "\n",
        "from surprise import Reader, Dataset\n",
        "from surprise import KNNBasic\n",
        "from surprise import KNNWithMeans\n",
        "from surprise import KNNBaseline\n",
        "from surprise import KNNWithZScore\n",
        "from surprise.model_selection import GridSearchCV\n",
        "from surprise.model_selection import train_test_split\n",
        "from surprise import SVD, accuracy\n",
        "from surprise.model_selection import cross_validate\n",
        "\n",
        "from tensorflow.python.keras import backend as K\n",
        "\n",
        "\n",
        "import _pickle as cPickle\n",
        "import pickle\n",
        "from random import randint\n",
        "from scipy.spatial import distance\n",
        "\n",
        "warnings.filterwarnings('ignore')\n",
        "\n",
        "sns.set()\n",
        "\n",
        "missing_values = [\"na\", \"n/a\", \"--\", \" \"]\n",
        "data_art_df = pd.read_csv(\"/content/drive/MyDrive/sample data/articles_metadata.csv\",\n",
        "                         sep=',', na_values=missing_values,\n",
        "                         low_memory=False)\n",
        "\n",
        "data_click_df = pd.read_csv(\"/content/drive/MyDrive/sample data/clicks.csv\",\n",
        "                         sep=',', na_values=missing_values,\n",
        "                         low_memory=False)\n",
        "\n",
        "data_click_df_s = pd.read_csv(\"/content/drive/MyDrive/sample data/clicks_sample.csv\",\n",
        "                         sep=',', na_values=missing_values,\n",
        "                         low_memory=False)"
      ],
      "execution_count": null,
      "outputs": []
    },
    {
      "cell_type": "markdown",
      "metadata": {
        "id": "woOiuzd2KZxY"
      },
      "source": [
        "## b) Contenu des fichiers\n"
      ]
    },
    {
      "cell_type": "markdown",
      "metadata": {
        "id": "OtE64duCigBy"
      },
      "source": [
        "* Fichier des articles\n"
      ]
    },
    {
      "cell_type": "code",
      "metadata": {
        "colab": {
          "base_uri": "https://localhost:8080/"
        },
        "id": "O5eIC6147Ok9",
        "outputId": "01e5fbf0-7206-45af-efe5-c58c6727baa1"
      },
      "source": [
        "msno.matrix(data_art_df.sample(250))"
      ],
      "execution_count": null,
      "outputs": [
        {
          "output_type": "execute_result",
          "data": {
            "text/plain": [
              "<matplotlib.axes._subplots.AxesSubplot at 0x7fe3a56b3410>"
            ]
          },
          "metadata": {},
          "execution_count": 5
        },
        {
          "output_type": "display_data",
          "data": {
            "image/png": "[encoded data removed]",
            "text/plain": [
              "<Figure size 1800x720 with 2 Axes>"
            ]
          },
          "metadata": {}
        }
      ]
    },
    {
      "cell_type": "code",
      "metadata": {
        "colab": {
          "base_uri": "https://localhost:8080/"
        },
        "id": "FxvmJ1En7B3e",
        "outputId": "f27702b3-1d4c-4aea-d236-5490cb033081"
      },
      "source": [
        "data_art_df.info()"
      ],
      "execution_count": null,
      "outputs": [
        {
          "output_type": "stream",
          "name": "stdout",
          "text": [
            "<class 'pandas.core.frame.DataFrame'>\n",
            "RangeIndex: 364047 entries, 0 to 364046\n",
            "Data columns (total 5 columns):\n",
            " #   Column         Non-Null Count   Dtype\n",
            "---  ------         --------------   -----\n",
            " 0   article_id     364047 non-null  int64\n",
            " 1   category_id    364047 non-null  int64\n",
            " 2   created_at_ts  364047 non-null  int64\n",
            " 3   publisher_id   364047 non-null  int64\n",
            " 4   words_count    364047 non-null  int64\n",
            "dtypes: int64(5)\n",
            "memory usage: 13.9 MB\n"
          ]
        }
      ]
    },
    {
      "cell_type": "code",
      "metadata": {
        "colab": {
          "base_uri": "https://localhost:8080/"
        },
        "id": "PztNHqQJ4HuD",
        "outputId": "c3e3f789-18e0-48a1-a8ee-e9c7caeb17c8"
      },
      "source": [
        "print(data_art_df.shape)\n",
        "data_art_df.head()"
      ],
      "execution_count": null,
      "outputs": [
        {
          "output_type": "stream",
          "name": "stdout",
          "text": [
            "(364047, 5)\n"
          ]
        },
        {
          "output_type": "execute_result",
          "data": {
            "text/html": [
              "<div>\n",
              "<style scoped>\n",
              "    .dataframe tbody tr th:only-of-type {\n",
              "        vertical-align: middle;\n",
              "    }\n",
              "\n",
              "    .dataframe tbody tr th {\n",
              "        vertical-align: top;\n",
              "    }\n",
              "\n",
              "    .dataframe thead th {\n",
              "        text-align: right;\n",
              "    }\n",
              "</style>\n",
              "<table border=\"1\" class=\"dataframe\">\n",
              "  <thead>\n",
              "    <tr style=\"text-align: right;\">\n",
              "      <th></th>\n",
              "      <th>article_id</th>\n",
              "      <th>category_id</th>\n",
              "      <th>created_at_ts</th>\n",
              "      <th>publisher_id</th>\n",
              "      <th>words_count</th>\n",
              "    </tr>\n",
              "  </thead>\n",
              "  <tbody>\n",
              "    <tr>\n",
              "      <th>0</th>\n",
              "      <td>0</td>\n",
              "      <td>0</td>\n",
              "      <td>1513144419000</td>\n",
              "      <td>0</td>\n",
              "      <td>168</td>\n",
              "    </tr>\n",
              "    <tr>\n",
              "      <th>1</th>\n",
              "      <td>1</td>\n",
              "      <td>1</td>\n",
              "      <td>1405341936000</td>\n",
              "      <td>0</td>\n",
              "      <td>189</td>\n",
              "    </tr>\n",
              "    <tr>\n",
              "      <th>2</th>\n",
              "      <td>2</td>\n",
              "      <td>1</td>\n",
              "      <td>1408667706000</td>\n",
              "      <td>0</td>\n",
              "      <td>250</td>\n",
              "    </tr>\n",
              "    <tr>\n",
              "      <th>3</th>\n",
              "      <td>3</td>\n",
              "      <td>1</td>\n",
              "      <td>1408468313000</td>\n",
              "      <td>0</td>\n",
              "      <td>230</td>\n",
              "    </tr>\n",
              "    <tr>\n",
              "      <th>4</th>\n",
              "      <td>4</td>\n",
              "      <td>1</td>\n",
              "      <td>1407071171000</td>\n",
              "      <td>0</td>\n",
              "      <td>162</td>\n",
              "    </tr>\n",
              "  </tbody>\n",
              "</table>\n",
              "</div>"
            ],
            "text/plain": [
              "   article_id  category_id  created_at_ts  publisher_id  words_count\n",
              "0           0            0  1513144419000             0          168\n",
              "1           1            1  1405341936000             0          189\n",
              "2           2            1  1408667706000             0          250\n",
              "3           3            1  1408468313000             0          230\n",
              "4           4            1  1407071171000             0          162"
            ]
          },
          "metadata": {},
          "execution_count": 7
        }
      ]
    },
    {
      "cell_type": "markdown",
      "metadata": {
        "id": "gZQ7n-fYGtfo"
      },
      "source": [
        "* Fichier des clicks des utilisateurs"
      ]
    },
    {
      "cell_type": "code",
      "metadata": {
        "colab": {
          "base_uri": "https://localhost:8080/"
        },
        "id": "n8tMwoII8pHS",
        "outputId": "d3856bdc-e5e5-49c4-e2bb-4ed810cce158"
      },
      "source": [
        "msno.matrix(data_click_df.sample(250))"
      ],
      "execution_count": null,
      "outputs": [
        {
          "output_type": "execute_result",
          "data": {
            "text/plain": [
              "<matplotlib.axes._subplots.AxesSubplot at 0x7fe3a574a8d0>"
            ]
          },
          "metadata": {},
          "execution_count": 8
        },
        {
          "output_type": "display_data",
          "data": {
            "image/png": "[encoded data removed]",
            "text/plain": [
              "<Figure size 1800x720 with 2 Axes>"
            ]
          },
          "metadata": {}
        }
      ]
    },
    {
      "cell_type": "code",
      "metadata": {
        "colab": {
          "base_uri": "https://localhost:8080/"
        },
        "id": "a7S9jJ858qRq",
        "outputId": "1a81e508-c9be-483e-d1bd-a80803c6f4e4"
      },
      "source": [
        "data_click_df.info()"
      ],
      "execution_count": null,
      "outputs": [
        {
          "output_type": "stream",
          "name": "stdout",
          "text": [
            "<class 'pandas.core.frame.DataFrame'>\n",
            "RangeIndex: 2988181 entries, 0 to 2988180\n",
            "Data columns (total 13 columns):\n",
            " #   Column               Dtype\n",
            "---  ------               -----\n",
            " 0   Unnamed: 0           int64\n",
            " 1   user_id              int64\n",
            " 2   session_id           int64\n",
            " 3   session_start        int64\n",
            " 4   session_size         int64\n",
            " 5   click_article_id     int64\n",
            " 6   click_timestamp      int64\n",
            " 7   click_environment    int64\n",
            " 8   click_deviceGroup    int64\n",
            " 9   click_os             int64\n",
            " 10  click_country        int64\n",
            " 11  click_region         int64\n",
            " 12  click_referrer_type  int64\n",
            "dtypes: int64(13)\n",
            "memory usage: 296.4 MB\n"
          ]
        }
      ]
    },
    {
      "cell_type": "code",
      "metadata": {
        "colab": {
          "base_uri": "https://localhost:8080/",
          "height": 413
        },
        "id": "5_NZEaLu8sj_",
        "outputId": "702a13e6-22d9-4ea6-f88c-70eb377a795c"
      },
      "source": [
        "print(data_click_df.shape)\n",
        "data_click_df.head(10)"
      ],
      "execution_count": null,
      "outputs": [
        {
          "output_type": "stream",
          "name": "stdout",
          "text": [
            "(2988181, 13)\n"
          ]
        },
        {
          "output_type": "execute_result",
          "data": {
            "text/html": [
              "<div>\n",
              "<style scoped>\n",
              "    .dataframe tbody tr th:only-of-type {\n",
              "        vertical-align: middle;\n",
              "    }\n",
              "\n",
              "    .dataframe tbody tr th {\n",
              "        vertical-align: top;\n",
              "    }\n",
              "\n",
              "    .dataframe thead th {\n",
              "        text-align: right;\n",
              "    }\n",
              "</style>\n",
              "<table border=\"1\" class=\"dataframe\">\n",
              "  <thead>\n",
              "    <tr style=\"text-align: right;\">\n",
              "      <th></th>\n",
              "      <th>Unnamed: 0</th>\n",
              "      <th>user_id</th>\n",
              "      <th>session_id</th>\n",
              "      <th>session_start</th>\n",
              "      <th>session_size</th>\n",
              "      <th>click_article_id</th>\n",
              "      <th>click_timestamp</th>\n",
              "      <th>click_environment</th>\n",
              "      <th>click_deviceGroup</th>\n",
              "      <th>click_os</th>\n",
              "      <th>click_country</th>\n",
              "      <th>click_region</th>\n",
              "      <th>click_referrer_type</th>\n",
              "    </tr>\n",
              "  </thead>\n",
              "  <tbody>\n",
              "    <tr>\n",
              "      <th>0</th>\n",
              "      <td>0</td>\n",
              "      <td>0</td>\n",
              "      <td>1506825423271737</td>\n",
              "      <td>1506825423000</td>\n",
              "      <td>2</td>\n",
              "      <td>157541</td>\n",
              "      <td>1506826828020</td>\n",
              "      <td>4</td>\n",
              "      <td>3</td>\n",
              "      <td>20</td>\n",
              "      <td>1</td>\n",
              "      <td>20</td>\n",
              "      <td>2</td>\n",
              "    </tr>\n",
              "    <tr>\n",
              "      <th>1</th>\n",
              "      <td>1</td>\n",
              "      <td>0</td>\n",
              "      <td>1506825423271737</td>\n",
              "      <td>1506825423000</td>\n",
              "      <td>2</td>\n",
              "      <td>68866</td>\n",
              "      <td>1506826858020</td>\n",
              "      <td>4</td>\n",
              "      <td>3</td>\n",
              "      <td>20</td>\n",
              "      <td>1</td>\n",
              "      <td>20</td>\n",
              "      <td>2</td>\n",
              "    </tr>\n",
              "    <tr>\n",
              "      <th>2</th>\n",
              "      <td>2</td>\n",
              "      <td>1</td>\n",
              "      <td>1506825426267738</td>\n",
              "      <td>1506825426000</td>\n",
              "      <td>2</td>\n",
              "      <td>235840</td>\n",
              "      <td>1506827017951</td>\n",
              "      <td>4</td>\n",
              "      <td>1</td>\n",
              "      <td>17</td>\n",
              "      <td>1</td>\n",
              "      <td>16</td>\n",
              "      <td>2</td>\n",
              "    </tr>\n",
              "    <tr>\n",
              "      <th>3</th>\n",
              "      <td>3</td>\n",
              "      <td>1</td>\n",
              "      <td>1506825426267738</td>\n",
              "      <td>1506825426000</td>\n",
              "      <td>2</td>\n",
              "      <td>96663</td>\n",
              "      <td>1506827047951</td>\n",
              "      <td>4</td>\n",
              "      <td>1</td>\n",
              "      <td>17</td>\n",
              "      <td>1</td>\n",
              "      <td>16</td>\n",
              "      <td>2</td>\n",
              "    </tr>\n",
              "    <tr>\n",
              "      <th>4</th>\n",
              "      <td>4</td>\n",
              "      <td>2</td>\n",
              "      <td>1506825435299739</td>\n",
              "      <td>1506825435000</td>\n",
              "      <td>2</td>\n",
              "      <td>119592</td>\n",
              "      <td>1506827090575</td>\n",
              "      <td>4</td>\n",
              "      <td>1</td>\n",
              "      <td>17</td>\n",
              "      <td>1</td>\n",
              "      <td>24</td>\n",
              "      <td>2</td>\n",
              "    </tr>\n",
              "    <tr>\n",
              "      <th>5</th>\n",
              "      <td>5</td>\n",
              "      <td>2</td>\n",
              "      <td>1506825435299739</td>\n",
              "      <td>1506825435000</td>\n",
              "      <td>2</td>\n",
              "      <td>30970</td>\n",
              "      <td>1506827120575</td>\n",
              "      <td>4</td>\n",
              "      <td>1</td>\n",
              "      <td>17</td>\n",
              "      <td>1</td>\n",
              "      <td>24</td>\n",
              "      <td>2</td>\n",
              "    </tr>\n",
              "    <tr>\n",
              "      <th>6</th>\n",
              "      <td>6</td>\n",
              "      <td>3</td>\n",
              "      <td>1506825442704740</td>\n",
              "      <td>1506825442000</td>\n",
              "      <td>2</td>\n",
              "      <td>236065</td>\n",
              "      <td>1506827536942</td>\n",
              "      <td>4</td>\n",
              "      <td>3</td>\n",
              "      <td>2</td>\n",
              "      <td>1</td>\n",
              "      <td>21</td>\n",
              "      <td>1</td>\n",
              "    </tr>\n",
              "    <tr>\n",
              "      <th>7</th>\n",
              "      <td>7</td>\n",
              "      <td>3</td>\n",
              "      <td>1506825442704740</td>\n",
              "      <td>1506825442000</td>\n",
              "      <td>2</td>\n",
              "      <td>236294</td>\n",
              "      <td>1506827566942</td>\n",
              "      <td>4</td>\n",
              "      <td>3</td>\n",
              "      <td>2</td>\n",
              "      <td>1</td>\n",
              "      <td>21</td>\n",
              "      <td>1</td>\n",
              "    </tr>\n",
              "    <tr>\n",
              "      <th>8</th>\n",
              "      <td>8</td>\n",
              "      <td>4</td>\n",
              "      <td>1506825528135741</td>\n",
              "      <td>1506825528000</td>\n",
              "      <td>2</td>\n",
              "      <td>48915</td>\n",
              "      <td>1506826927593</td>\n",
              "      <td>4</td>\n",
              "      <td>1</td>\n",
              "      <td>17</td>\n",
              "      <td>1</td>\n",
              "      <td>17</td>\n",
              "      <td>1</td>\n",
              "    </tr>\n",
              "    <tr>\n",
              "      <th>9</th>\n",
              "      <td>9</td>\n",
              "      <td>4</td>\n",
              "      <td>1506825528135741</td>\n",
              "      <td>1506825528000</td>\n",
              "      <td>2</td>\n",
              "      <td>44488</td>\n",
              "      <td>1506826957593</td>\n",
              "      <td>4</td>\n",
              "      <td>1</td>\n",
              "      <td>17</td>\n",
              "      <td>1</td>\n",
              "      <td>17</td>\n",
              "      <td>1</td>\n",
              "    </tr>\n",
              "  </tbody>\n",
              "</table>\n",
              "</div>"
            ],
            "text/plain": [
              "   Unnamed: 0  user_id  ...  click_region  click_referrer_type\n",
              "0           0        0  ...            20                    2\n",
              "1           1        0  ...            20                    2\n",
              "2           2        1  ...            16                    2\n",
              "3           3        1  ...            16                    2\n",
              "4           4        2  ...            24                    2\n",
              "5           5        2  ...            24                    2\n",
              "6           6        3  ...            21                    1\n",
              "7           7        3  ...            21                    1\n",
              "8           8        4  ...            17                    1\n",
              "9           9        4  ...            17                    1\n",
              "\n",
              "[10 rows x 13 columns]"
            ]
          },
          "metadata": {},
          "execution_count": 10
        }
      ]
    },
    {
      "cell_type": "markdown",
      "metadata": {
        "id": "wyiCrIO78_Or"
      },
      "source": [
        "> <font color='red'> Les fichiers des articles et des clicks ne contiennent pas de cellules vides. </font>"
      ]
    },
    {
      "cell_type": "code",
      "metadata": {
        "colab": {
          "base_uri": "https://localhost:8080/",
          "height": 507
        },
        "id": "kd1hZRJdgRgA",
        "outputId": "b4e09f6e-5f25-49f4-d8a1-6520078ef52b"
      },
      "source": [
        "df = data_click_df.merge(data_art_df, left_on='click_article_id', right_on='article_id')\n",
        "df = df[['user_id', 'article_id', 'category_id']]\n",
        "df"
      ],
      "execution_count": null,
      "outputs": [
        {
          "output_type": "execute_result",
          "data": {
            "text/html": [
              "<div>\n",
              "<style scoped>\n",
              "    .dataframe tbody tr th:only-of-type {\n",
              "        vertical-align: middle;\n",
              "    }\n",
              "\n",
              "    .dataframe tbody tr th {\n",
              "        vertical-align: top;\n",
              "    }\n",
              "\n",
              "    .dataframe thead th {\n",
              "        text-align: right;\n",
              "    }\n",
              "</style>\n",
              "<table border=\"1\" class=\"dataframe\">\n",
              "  <thead>\n",
              "    <tr style=\"text-align: right;\">\n",
              "      <th></th>\n",
              "      <th>user_id</th>\n",
              "      <th>article_id</th>\n",
              "      <th>category_id</th>\n",
              "    </tr>\n",
              "  </thead>\n",
              "  <tbody>\n",
              "    <tr>\n",
              "      <th>0</th>\n",
              "      <td>0</td>\n",
              "      <td>157541</td>\n",
              "      <td>281</td>\n",
              "    </tr>\n",
              "    <tr>\n",
              "      <th>1</th>\n",
              "      <td>20</td>\n",
              "      <td>157541</td>\n",
              "      <td>281</td>\n",
              "    </tr>\n",
              "    <tr>\n",
              "      <th>2</th>\n",
              "      <td>44</td>\n",
              "      <td>157541</td>\n",
              "      <td>281</td>\n",
              "    </tr>\n",
              "    <tr>\n",
              "      <th>3</th>\n",
              "      <td>45</td>\n",
              "      <td>157541</td>\n",
              "      <td>281</td>\n",
              "    </tr>\n",
              "    <tr>\n",
              "      <th>4</th>\n",
              "      <td>76</td>\n",
              "      <td>157541</td>\n",
              "      <td>281</td>\n",
              "    </tr>\n",
              "    <tr>\n",
              "      <th>...</th>\n",
              "      <td>...</td>\n",
              "      <td>...</td>\n",
              "      <td>...</td>\n",
              "    </tr>\n",
              "    <tr>\n",
              "      <th>2988176</th>\n",
              "      <td>195186</td>\n",
              "      <td>2221</td>\n",
              "      <td>1</td>\n",
              "    </tr>\n",
              "    <tr>\n",
              "      <th>2988177</th>\n",
              "      <td>75658</td>\n",
              "      <td>271117</td>\n",
              "      <td>399</td>\n",
              "    </tr>\n",
              "    <tr>\n",
              "      <th>2988178</th>\n",
              "      <td>217129</td>\n",
              "      <td>20204</td>\n",
              "      <td>9</td>\n",
              "    </tr>\n",
              "    <tr>\n",
              "      <th>2988179</th>\n",
              "      <td>217129</td>\n",
              "      <td>70196</td>\n",
              "      <td>136</td>\n",
              "    </tr>\n",
              "    <tr>\n",
              "      <th>2988180</th>\n",
              "      <td>51099</td>\n",
              "      <td>98243</td>\n",
              "      <td>220</td>\n",
              "    </tr>\n",
              "  </tbody>\n",
              "</table>\n",
              "<p>2988181 rows × 3 columns</p>\n",
              "</div>"
            ],
            "text/plain": [
              "         user_id  article_id  category_id\n",
              "0              0      157541          281\n",
              "1             20      157541          281\n",
              "2             44      157541          281\n",
              "3             45      157541          281\n",
              "4             76      157541          281\n",
              "...          ...         ...          ...\n",
              "2988176   195186        2221            1\n",
              "2988177    75658      271117          399\n",
              "2988178   217129       20204            9\n",
              "2988179   217129       70196          136\n",
              "2988180    51099       98243          220\n",
              "\n",
              "[2988181 rows x 3 columns]"
            ]
          },
          "metadata": {},
          "execution_count": 11
        }
      ]
    },
    {
      "cell_type": "markdown",
      "metadata": {
        "id": "smMU3egah9yy"
      },
      "source": [
        "* Création de la matrice user-rating"
      ]
    },
    {
      "cell_type": "code",
      "metadata": {
        "id": "k7qsN2wNDh8V",
        "colab": {
          "base_uri": "https://localhost:8080/"
        },
        "outputId": "1146f25f-0514-41dc-a705-c6f50ee6d0ba"
      },
      "source": [
        "series = df.groupby(['user_id', 'category_id']).size()\n",
        "\n",
        "user_rating = series.to_frame()\n",
        "user_rating = user_rating.reset_index()\n",
        "user_rating.rename(columns = {0:'rating'}, inplace = True)\n",
        "user_rating"
      ],
      "execution_count": null,
      "outputs": [
        {
          "output_type": "execute_result",
          "data": {
            "text/html": [
              "<div>\n",
              "<style scoped>\n",
              "    .dataframe tbody tr th:only-of-type {\n",
              "        vertical-align: middle;\n",
              "    }\n",
              "\n",
              "    .dataframe tbody tr th {\n",
              "        vertical-align: top;\n",
              "    }\n",
              "\n",
              "    .dataframe thead th {\n",
              "        text-align: right;\n",
              "    }\n",
              "</style>\n",
              "<table border=\"1\" class=\"dataframe\">\n",
              "  <thead>\n",
              "    <tr style=\"text-align: right;\">\n",
              "      <th></th>\n",
              "      <th>user_id</th>\n",
              "      <th>category_id</th>\n",
              "      <th>rating</th>\n",
              "    </tr>\n",
              "  </thead>\n",
              "  <tbody>\n",
              "    <tr>\n",
              "      <th>0</th>\n",
              "      <td>0</td>\n",
              "      <td>136</td>\n",
              "      <td>1</td>\n",
              "    </tr>\n",
              "    <tr>\n",
              "      <th>1</th>\n",
              "      <td>0</td>\n",
              "      <td>186</td>\n",
              "      <td>2</td>\n",
              "    </tr>\n",
              "    <tr>\n",
              "      <th>2</th>\n",
              "      <td>0</td>\n",
              "      <td>209</td>\n",
              "      <td>1</td>\n",
              "    </tr>\n",
              "    <tr>\n",
              "      <th>3</th>\n",
              "      <td>0</td>\n",
              "      <td>281</td>\n",
              "      <td>2</td>\n",
              "    </tr>\n",
              "    <tr>\n",
              "      <th>4</th>\n",
              "      <td>0</td>\n",
              "      <td>375</td>\n",
              "      <td>1</td>\n",
              "    </tr>\n",
              "    <tr>\n",
              "      <th>...</th>\n",
              "      <td>...</td>\n",
              "      <td>...</td>\n",
              "      <td>...</td>\n",
              "    </tr>\n",
              "    <tr>\n",
              "      <th>1882297</th>\n",
              "      <td>322894</td>\n",
              "      <td>297</td>\n",
              "      <td>1</td>\n",
              "    </tr>\n",
              "    <tr>\n",
              "      <th>1882298</th>\n",
              "      <td>322895</td>\n",
              "      <td>133</td>\n",
              "      <td>1</td>\n",
              "    </tr>\n",
              "    <tr>\n",
              "      <th>1882299</th>\n",
              "      <td>322895</td>\n",
              "      <td>418</td>\n",
              "      <td>1</td>\n",
              "    </tr>\n",
              "    <tr>\n",
              "      <th>1882300</th>\n",
              "      <td>322896</td>\n",
              "      <td>26</td>\n",
              "      <td>1</td>\n",
              "    </tr>\n",
              "    <tr>\n",
              "      <th>1882301</th>\n",
              "      <td>322896</td>\n",
              "      <td>281</td>\n",
              "      <td>1</td>\n",
              "    </tr>\n",
              "  </tbody>\n",
              "</table>\n",
              "<p>1882302 rows × 3 columns</p>\n",
              "</div>"
            ],
            "text/plain": [
              "         user_id  category_id  rating\n",
              "0              0          136       1\n",
              "1              0          186       2\n",
              "2              0          209       1\n",
              "3              0          281       2\n",
              "4              0          375       1\n",
              "...          ...          ...     ...\n",
              "1882297   322894          297       1\n",
              "1882298   322895          133       1\n",
              "1882299   322895          418       1\n",
              "1882300   322896           26       1\n",
              "1882301   322896          281       1\n",
              "\n",
              "[1882302 rows x 3 columns]"
            ]
          },
          "metadata": {},
          "execution_count": 12
        }
      ]
    },
    {
      "cell_type": "code",
      "metadata": {
        "colab": {
          "base_uri": "https://localhost:8080/"
        },
        "id": "1XhRp_MLGms-",
        "outputId": "99916b53-0586-4959-a453-f47bd4fef31d"
      },
      "source": [
        "user_rating.rating.value_counts()"
      ],
      "execution_count": null,
      "outputs": [
        {
          "output_type": "execute_result",
          "data": {
            "text/plain": [
              "1      1378686\n",
              "2       293327\n",
              "3        97043\n",
              "4        43989\n",
              "5        23658\n",
              "        ...   \n",
              "103          1\n",
              "104          1\n",
              "107          1\n",
              "109          1\n",
              "64           1\n",
              "Name: rating, Length: 127, dtype: int64"
            ]
          },
          "metadata": {},
          "execution_count": 13
        }
      ]
    },
    {
      "cell_type": "markdown",
      "metadata": {
        "id": "N73_FlbmjUcB"
      },
      "source": [
        "* Création de la matrice **user_rating_s** pour le **fichier sample**"
      ]
    },
    {
      "cell_type": "code",
      "metadata": {
        "colab": {
          "base_uri": "https://localhost:8080/"
        },
        "id": "mPEZH85xjbwT",
        "outputId": "da4e56a0-78ea-4fff-ac45-8cea2edbbef2"
      },
      "source": [
        "df_s = data_click_df_s.merge(data_art_df, left_on='click_article_id', right_on='article_id')\n",
        "df_s = df_s[['user_id', 'article_id', 'category_id']]\n",
        "df_s"
      ],
      "execution_count": null,
      "outputs": [
        {
          "output_type": "execute_result",
          "data": {
            "text/html": [
              "<div>\n",
              "<style scoped>\n",
              "    .dataframe tbody tr th:only-of-type {\n",
              "        vertical-align: middle;\n",
              "    }\n",
              "\n",
              "    .dataframe tbody tr th {\n",
              "        vertical-align: top;\n",
              "    }\n",
              "\n",
              "    .dataframe thead th {\n",
              "        text-align: right;\n",
              "    }\n",
              "</style>\n",
              "<table border=\"1\" class=\"dataframe\">\n",
              "  <thead>\n",
              "    <tr style=\"text-align: right;\">\n",
              "      <th></th>\n",
              "      <th>user_id</th>\n",
              "      <th>article_id</th>\n",
              "      <th>category_id</th>\n",
              "    </tr>\n",
              "  </thead>\n",
              "  <tbody>\n",
              "    <tr>\n",
              "      <th>0</th>\n",
              "      <td>0</td>\n",
              "      <td>157541</td>\n",
              "      <td>281</td>\n",
              "    </tr>\n",
              "    <tr>\n",
              "      <th>1</th>\n",
              "      <td>20</td>\n",
              "      <td>157541</td>\n",
              "      <td>281</td>\n",
              "    </tr>\n",
              "    <tr>\n",
              "      <th>2</th>\n",
              "      <td>44</td>\n",
              "      <td>157541</td>\n",
              "      <td>281</td>\n",
              "    </tr>\n",
              "    <tr>\n",
              "      <th>3</th>\n",
              "      <td>45</td>\n",
              "      <td>157541</td>\n",
              "      <td>281</td>\n",
              "    </tr>\n",
              "    <tr>\n",
              "      <th>4</th>\n",
              "      <td>76</td>\n",
              "      <td>157541</td>\n",
              "      <td>281</td>\n",
              "    </tr>\n",
              "    <tr>\n",
              "      <th>...</th>\n",
              "      <td>...</td>\n",
              "      <td>...</td>\n",
              "      <td>...</td>\n",
              "    </tr>\n",
              "    <tr>\n",
              "      <th>1878</th>\n",
              "      <td>681</td>\n",
              "      <td>260988</td>\n",
              "      <td>395</td>\n",
              "    </tr>\n",
              "    <tr>\n",
              "      <th>1879</th>\n",
              "      <td>696</td>\n",
              "      <td>355863</td>\n",
              "      <td>448</td>\n",
              "    </tr>\n",
              "    <tr>\n",
              "      <th>1880</th>\n",
              "      <td>703</td>\n",
              "      <td>84094</td>\n",
              "      <td>174</td>\n",
              "    </tr>\n",
              "    <tr>\n",
              "      <th>1881</th>\n",
              "      <td>703</td>\n",
              "      <td>83472</td>\n",
              "      <td>174</td>\n",
              "    </tr>\n",
              "    <tr>\n",
              "      <th>1882</th>\n",
              "      <td>704</td>\n",
              "      <td>162245</td>\n",
              "      <td>281</td>\n",
              "    </tr>\n",
              "  </tbody>\n",
              "</table>\n",
              "<p>1883 rows × 3 columns</p>\n",
              "</div>"
            ],
            "text/plain": [
              "      user_id  article_id  category_id\n",
              "0           0      157541          281\n",
              "1          20      157541          281\n",
              "2          44      157541          281\n",
              "3          45      157541          281\n",
              "4          76      157541          281\n",
              "...       ...         ...          ...\n",
              "1878      681      260988          395\n",
              "1879      696      355863          448\n",
              "1880      703       84094          174\n",
              "1881      703       83472          174\n",
              "1882      704      162245          281\n",
              "\n",
              "[1883 rows x 3 columns]"
            ]
          },
          "metadata": {},
          "execution_count": 14
        }
      ]
    },
    {
      "cell_type": "code",
      "metadata": {
        "colab": {
          "base_uri": "https://localhost:8080/"
        },
        "id": "o1XA_k8vjeUW",
        "outputId": "f5156a5c-f5ae-4484-d92f-ec3e46638951"
      },
      "source": [
        "series = df_s.groupby(['user_id', 'category_id']).size()\n",
        "\n",
        "user_rating_s = series.to_frame()\n",
        "user_rating_s = user_rating_s.reset_index()\n",
        "user_rating_s.rename(columns = {0:'rating'}, inplace = True)\n",
        "user_rating_s"
      ],
      "execution_count": null,
      "outputs": [
        {
          "output_type": "execute_result",
          "data": {
            "text/html": [
              "<div>\n",
              "<style scoped>\n",
              "    .dataframe tbody tr th:only-of-type {\n",
              "        vertical-align: middle;\n",
              "    }\n",
              "\n",
              "    .dataframe tbody tr th {\n",
              "        vertical-align: top;\n",
              "    }\n",
              "\n",
              "    .dataframe thead th {\n",
              "        text-align: right;\n",
              "    }\n",
              "</style>\n",
              "<table border=\"1\" class=\"dataframe\">\n",
              "  <thead>\n",
              "    <tr style=\"text-align: right;\">\n",
              "      <th></th>\n",
              "      <th>user_id</th>\n",
              "      <th>category_id</th>\n",
              "      <th>rating</th>\n",
              "    </tr>\n",
              "  </thead>\n",
              "  <tbody>\n",
              "    <tr>\n",
              "      <th>0</th>\n",
              "      <td>0</td>\n",
              "      <td>136</td>\n",
              "      <td>1</td>\n",
              "    </tr>\n",
              "    <tr>\n",
              "      <th>1</th>\n",
              "      <td>0</td>\n",
              "      <td>281</td>\n",
              "      <td>1</td>\n",
              "    </tr>\n",
              "    <tr>\n",
              "      <th>2</th>\n",
              "      <td>1</td>\n",
              "      <td>209</td>\n",
              "      <td>1</td>\n",
              "    </tr>\n",
              "    <tr>\n",
              "      <th>3</th>\n",
              "      <td>1</td>\n",
              "      <td>375</td>\n",
              "      <td>1</td>\n",
              "    </tr>\n",
              "    <tr>\n",
              "      <th>4</th>\n",
              "      <td>2</td>\n",
              "      <td>26</td>\n",
              "      <td>1</td>\n",
              "    </tr>\n",
              "    <tr>\n",
              "      <th>...</th>\n",
              "      <td>...</td>\n",
              "      <td>...</td>\n",
              "      <td>...</td>\n",
              "    </tr>\n",
              "    <tr>\n",
              "      <th>1707</th>\n",
              "      <td>705</td>\n",
              "      <td>247</td>\n",
              "      <td>1</td>\n",
              "    </tr>\n",
              "    <tr>\n",
              "      <th>1708</th>\n",
              "      <td>705</td>\n",
              "      <td>412</td>\n",
              "      <td>1</td>\n",
              "    </tr>\n",
              "    <tr>\n",
              "      <th>1709</th>\n",
              "      <td>706</td>\n",
              "      <td>136</td>\n",
              "      <td>1</td>\n",
              "    </tr>\n",
              "    <tr>\n",
              "      <th>1710</th>\n",
              "      <td>706</td>\n",
              "      <td>209</td>\n",
              "      <td>1</td>\n",
              "    </tr>\n",
              "    <tr>\n",
              "      <th>1711</th>\n",
              "      <td>706</td>\n",
              "      <td>230</td>\n",
              "      <td>1</td>\n",
              "    </tr>\n",
              "  </tbody>\n",
              "</table>\n",
              "<p>1712 rows × 3 columns</p>\n",
              "</div>"
            ],
            "text/plain": [
              "      user_id  category_id  rating\n",
              "0           0          136       1\n",
              "1           0          281       1\n",
              "2           1          209       1\n",
              "3           1          375       1\n",
              "4           2           26       1\n",
              "...       ...          ...     ...\n",
              "1707      705          247       1\n",
              "1708      705          412       1\n",
              "1709      706          136       1\n",
              "1710      706          209       1\n",
              "1711      706          230       1\n",
              "\n",
              "[1712 rows x 3 columns]"
            ]
          },
          "metadata": {},
          "execution_count": 15
        }
      ]
    },
    {
      "cell_type": "code",
      "metadata": {
        "id": "X2Rf-Crcj1_D"
      },
      "source": [
        "user_rating_enough_s = user_rating_s.loc[user_rating_s.rating > 1]\n",
        "reader = Reader()\n",
        "data_s = Dataset.load_from_df(user_rating_enough_s[['user_id', 'category_id', 'rating']], reader)\n",
        "\n",
        "trainset_s, testset_s = train_test_split(data_s, test_size=0.25)"
      ],
      "execution_count": null,
      "outputs": []
    },
    {
      "cell_type": "markdown",
      "metadata": {
        "id": "ucQ6fXkd6kt8"
      },
      "source": [
        "* Jeu de données pour la librairie **Implicit**"
      ]
    },
    {
      "cell_type": "code",
      "metadata": {
        "id": "Pmf34AHX6bTH"
      },
      "source": [
        "from sklearn.model_selection import train_test_split\n",
        "\n",
        "train, cros_val = train_test_split(df, test_size = 0.2)"
      ],
      "execution_count": null,
      "outputs": []
    },
    {
      "cell_type": "code",
      "metadata": {
        "colab": {
          "base_uri": "https://localhost:8080/"
        },
        "id": "UOsCVjJYepel",
        "outputId": "768393aa-e44e-464c-aa3a-2181f6ffd98a"
      },
      "source": [
        "print('Splitted dataset into train set, cross validation set')\n",
        "print('Train shape:', train.shape)\n",
        "print('cros_val shape:', cros_val.shape)"
      ],
      "execution_count": null,
      "outputs": [
        {
          "output_type": "stream",
          "name": "stdout",
          "text": [
            "Splitted dataset into train set, cross validation set\n",
            "Train shape: (2390544, 3)\n",
            "cros_val shape: (597637, 3)\n"
          ]
        }
      ]
    },
    {
      "cell_type": "markdown",
      "metadata": {
        "id": "vUJhzwHw7R7C"
      },
      "source": [
        "# 2. Content-Based Filtering Model"
      ]
    },
    {
      "cell_type": "markdown",
      "metadata": {
        "id": "DjtVXkihR11N"
      },
      "source": [
        "> Le **filtrage basé sur le contenu** exploite la description des articles avec lesquels l’utilisateur a interagis afin sz recommander des articles similaires. Cela ne dépend que des choix précédents de l’utilisateur, ce qui rend cette méthode robuste pour éviter le problème de démarrage à froid. On peut ainsi créer des profils d’ articles et des profils utilisateur.\n",
        "\n",
        "> La méthode **TF-IDF** est la plus couramment utilisée pour convertir l' article en une structure vectorielle, où chaque mot est représenté par une position dans le vecteur, et la valeur mesure la pertinence d’un mot donné dans cet article.\n",
        " Comme tous les éléments seront représentés dans le même modèle d’espace vectoriel, il s’agit de calculer la similitude entre les articles par le **cosinus de l'angle** entre les différents vecteurs.\n",
        "\n"
      ]
    },
    {
      "cell_type": "markdown",
      "metadata": {
        "id": "AgfrKJJCxxBj"
      },
      "source": [
        "* Chargement la matrice **embedding** des articles "
      ]
    },
    {
      "cell_type": "code",
      "metadata": {
        "id": "iiOB_WEXJ1ac",
        "colab": {
          "base_uri": "https://localhost:8080/"
        },
        "outputId": "8a946e71-9c53-4435-b9e4-283fa4d4243b"
      },
      "source": [
        "with open(r\"/content/drive/MyDrive/sample data/articles_embeddings.pickle\", \"rb\") as input_file:\n",
        "    e = cPickle.load(input_file)\n",
        "\n",
        "e.shape"
      ],
      "execution_count": null,
      "outputs": [
        {
          "output_type": "execute_result",
          "data": {
            "text/plain": [
              "(364047, 250)"
            ]
          },
          "metadata": {},
          "execution_count": 19
        }
      ]
    },
    {
      "cell_type": "markdown",
      "metadata": {
        "id": "aVWkshLJ-LGx"
      },
      "source": [
        "* Fonction de récupération de **n articles similaires** pour un utilisateur (**par user_id**)"
      ]
    },
    {
      "cell_type": "code",
      "metadata": {
        "id": "oPyvjo8I_Zxl",
        "colab": {
          "base_uri": "https://localhost:8080/"
        },
        "outputId": "dc6e3057-49ea-4bf3-d7e9-8650f3ef99c7"
      },
      "source": [
        "def getnArticles(e, n, userId):\n",
        "    \n",
        "    ee = e\n",
        "    \n",
        "    # get all articles read by user\n",
        "    var = data_click_df.loc[data_click_df['user_id']==userId]['click_article_id'].tolist()\n",
        "    \n",
        "    # chose randomly one\n",
        "    value = randint(0, len(var))\n",
        "    \n",
        "    # delete all read articles except the selected one( we do not want to offer\n",
        "    # user to read something he already read)\n",
        "    for i in range(0, len(var)):\n",
        "        if i != value:\n",
        "            ee = np.delete(ee, [i], 0)\n",
        "    \n",
        "    arr = []\n",
        "    \n",
        "    # delete selected article in the new matrix\n",
        "    f = np.delete(ee, [value], 0)\n",
        "    \n",
        "    # get n articles the most similar to the selected one\n",
        "    for i in range(0, n):\n",
        "        distances = distance.cdist([ee[value]], f, \"cosine\")[0]\n",
        "        min_index = np.argmin(distances)\n",
        "        f = np.delete(f, [min_index], 0)\n",
        "    # find corresponding matrix in original martix\n",
        "        result = np.where(e==f[min_index])\n",
        "        arr.append(result[0][0])\n",
        "        \n",
        "    return arr\n",
        "\n",
        "getnArticles(e, 10, 0)"
      ],
      "execution_count": null,
      "outputs": [
        {
          "output_type": "execute_result",
          "data": {
            "text/plain": [
              "[25, 462, 423, 1473, 1419, 588, 473, 958, 576, 693]"
            ]
          },
          "metadata": {},
          "execution_count": 20
        }
      ]
    },
    {
      "cell_type": "markdown",
      "metadata": {
        "id": "4Dw6CFhZDLR8"
      },
      "source": [
        "> <font color='red'> Voici la liste des 10 articles similaires lus et vus par l'utilisateur 0. </font>"
      ]
    },
    {
      "cell_type": "markdown",
      "metadata": {
        "id": "F3vjpL2Bg8IU"
      },
      "source": [
        "* On peut ajouter **le nombre de mots** de chaque article dans la matrice **embedding**"
      ]
    },
    {
      "cell_type": "code",
      "metadata": {
        "id": "sRlxQuwJHS6z",
        "colab": {
          "base_uri": "https://localhost:8080/"
        },
        "outputId": "2c688590-f94c-4001-e306-df2a7bc515ba"
      },
      "source": [
        "d = e\n",
        "max = data_art_df['words_count'].max()\n",
        "data_art_df['words_count'] = data_art_df['words_count'].apply(lambda x: x/max)\n",
        "\n",
        "d = np.append(d, np.reshape(data_art_df['words_count'].to_numpy(),\n",
        "                            newshape=(data_art_df['words_count'].shape[0], 1)),\n",
        "              axis=1)\n",
        "\n",
        "d.shape"
      ],
      "execution_count": null,
      "outputs": [
        {
          "output_type": "execute_result",
          "data": {
            "text/plain": [
              "(364047, 251)"
            ]
          },
          "metadata": {},
          "execution_count": 21
        }
      ]
    },
    {
      "cell_type": "code",
      "metadata": {
        "colab": {
          "base_uri": "https://localhost:8080/"
        },
        "id": "OSiVpv4BDvX9",
        "outputId": "45516bad-4f77-4fdf-ff26-1023cc83fcb7"
      },
      "source": [
        "getnArticles(d, 10, 0)"
      ],
      "execution_count": null,
      "outputs": [
        {
          "output_type": "execute_result",
          "data": {
            "text/plain": [
              "[11, 671, 86, 433, 28, 1424, 139, 413, 983, 1]"
            ]
          },
          "metadata": {},
          "execution_count": 22
        }
      ]
    },
    {
      "cell_type": "markdown",
      "metadata": {
        "id": "EVeroQv4D3Yf"
      },
      "source": [
        "> <font color='red'> Voici la liste des 10 articles similaires lus et vus par l'utilisateur 0 lorsqu'on ajoute la donnée **words_count**. </font>\n",
        "\n",
        "\n",
        "> <font color='red'> Dans la recommandation par le contenu, nous avons proposé parmi tous les articles, ceux qui sont similaires aux articles sur lesquels l'utilisateur a cliqués. </font>"
      ]
    },
    {
      "cell_type": "markdown",
      "metadata": {
        "id": "Oz9VGwTlW4TS"
      },
      "source": [
        "# 3. Collaborative Filtering Model"
      ]
    },
    {
      "cell_type": "markdown",
      "metadata": {
        "id": "i1My2o7S9Qsj"
      },
      "source": [
        "> Le **filtrage basé sur la collaboration** fait des prédictions automatiques (filtrage) sur les intérêts d’un utilisateur en collectant les préférences ou les informations de goût de nombreux utilisateurs (collaboration). L’hypothèse sous-jacente de l’approche de filtrage collaboratif est que si une personne A a la même opinion qu’une personne B sur un ensemble d’éléments, A est plus susceptible d’avoir l’opinion de B pour un élément donné que celle d’une personne choisie au hasard.\n",
        "\n",
        "> On a 2 approches d'implémentation du **Collaborative Filtering**:\n",
        "\n",
        "* une basée sur la mémoire : cette approche utilise la mémoire des interactions des utilisateurs précédents pour calculer les similitudes des utilisateurs en fonction des éléments avec lesquels ils ont interagis (approche basée sur l’utilisateur) ou calculer les similitudes des éléments en fonction des utilisateurs qui ont interagi avec eux (approche basée sur les éléments).\n",
        "\n",
        "* basé sur un modèle : les modèles sont développés à l’aide de différents algorithmes d’apprentissage automatique pour recommander des éléments aux utilisateurs. Il existe de nombreux algorithmes CF basés sur des modèles, tels que les réseaux de neurones, les réseaux bayésiens, les modèles de clustering et les modèles de facteurs latents tels que la décomposition de valeur singulière (SVD) et l’analyse sémantique latente probabiliste\n"
      ]
    },
    {
      "cell_type": "markdown",
      "metadata": {
        "id": "3N5TFuy9fn5M"
      },
      "source": [
        "## Création d'un rating pour chaque catégorie d'article vue par chaque utilisateur"
      ]
    },
    {
      "cell_type": "code",
      "metadata": {
        "id": "eV1r0DeTv0b0"
      },
      "source": [
        "K.clear_session()"
      ],
      "execution_count": null,
      "outputs": []
    },
    {
      "cell_type": "code",
      "metadata": {
        "id": "-N3QfxIYxWAi",
        "colab": {
          "base_uri": "https://localhost:8080/"
        },
        "outputId": "60b8b9ba-da52-40a8-b4f5-359a1ad56130"
      },
      "source": [
        "user_rating_enough = user_rating.loc[user_rating.rating > 5]\n",
        "print('On a sélectionné ', len(user_rating_enough), ' interactions.')"
      ],
      "execution_count": null,
      "outputs": [
        {
          "output_type": "stream",
          "name": "stdout",
          "text": [
            "On a sélectionné  45599  interactions.\n"
          ]
        }
      ]
    },
    {
      "cell_type": "code",
      "metadata": {
        "id": "eL8EtCVk2Sit",
        "colab": {
          "base_uri": "https://localhost:8080/"
        },
        "outputId": "15959398-4fb7-4f9c-d450-1d8dc65d5fd9"
      },
      "source": [
        "from surprise.model_selection import train_test_split\n",
        "\n",
        "reader = Reader()\n",
        "data = Dataset.load_from_df(user_rating_enough[['user_id', 'category_id', 'rating']], reader)\n",
        "\n",
        "trainset, testset = train_test_split(data, test_size=0.25)\n",
        "print('Test set lenght :', len(testset))\n",
        "print('Train set lenght :', len(user_rating_enough) - len(testset))"
      ],
      "execution_count": null,
      "outputs": [
        {
          "output_type": "stream",
          "name": "stdout",
          "text": [
            "Test set lenght : 11400\n",
            "Train set lenght : 34199\n"
          ]
        }
      ]
    },
    {
      "cell_type": "markdown",
      "metadata": {
        "id": "f08Ka04-IHzS"
      },
      "source": [
        "## Première approche avec **k-NN** et optimisation des paramètres du modèle"
      ]
    },
    {
      "cell_type": "markdown",
      "metadata": {
        "id": "SyU00dp_Nsjn"
      },
      "source": [
        "* Entrainement du modèle et recherche des paramètres optimaux"
      ]
    },
    {
      "cell_type": "code",
      "metadata": {
        "colab": {
          "base_uri": "https://localhost:8080/"
        },
        "id": "_6GcFEhPNunq",
        "outputId": "6b608059-01fe-4f41-d760-4dfd623cba85"
      },
      "source": [
        "from surprise import KNNWithMeans\n",
        "\n",
        "sim_options = {\n",
        "    \"name\": [\"cosine\"],\n",
        "    \"min_support\": [3, 4, 5],\n",
        "    \"user_based\": [False, True],\n",
        "}\n",
        "\n",
        "param_grid = {\"sim_options\": sim_options, \"k\": [5, 10], \"min_k\": [2, 3]}\n",
        "\n",
        "gs = GridSearchCV(KNNWithMeans, param_grid, measures=[\"rmse\", \"mae\"], cv=3)\n",
        "gs.fit(data)"
      ],
      "execution_count": null,
      "outputs": [
        {
          "output_type": "stream",
          "name": "stdout",
          "text": [
            "Computing the cosine similarity matrix...\n",
            "Done computing similarity matrix.\n",
            "Computing the cosine similarity matrix...\n",
            "Done computing similarity matrix.\n",
            "Computing the cosine similarity matrix...\n",
            "Done computing similarity matrix.\n",
            "Computing the cosine similarity matrix...\n",
            "Done computing similarity matrix.\n",
            "Computing the cosine similarity matrix...\n",
            "Done computing similarity matrix.\n",
            "Computing the cosine similarity matrix...\n",
            "Done computing similarity matrix.\n",
            "Computing the cosine similarity matrix...\n",
            "Done computing similarity matrix.\n",
            "Computing the cosine similarity matrix...\n",
            "Done computing similarity matrix.\n",
            "Computing the cosine similarity matrix...\n",
            "Done computing similarity matrix.\n",
            "Computing the cosine similarity matrix...\n",
            "Done computing similarity matrix.\n",
            "Computing the cosine similarity matrix...\n",
            "Done computing similarity matrix.\n",
            "Computing the cosine similarity matrix...\n",
            "Done computing similarity matrix.\n",
            "Computing the cosine similarity matrix...\n",
            "Done computing similarity matrix.\n",
            "Computing the cosine similarity matrix...\n",
            "Done computing similarity matrix.\n",
            "Computing the cosine similarity matrix...\n",
            "Done computing similarity matrix.\n",
            "Computing the cosine similarity matrix...\n",
            "Done computing similarity matrix.\n",
            "Computing the cosine similarity matrix...\n",
            "Done computing similarity matrix.\n",
            "Computing the cosine similarity matrix...\n",
            "Done computing similarity matrix.\n",
            "Computing the cosine similarity matrix...\n",
            "Done computing similarity matrix.\n",
            "Computing the cosine similarity matrix...\n",
            "Done computing similarity matrix.\n",
            "Computing the cosine similarity matrix...\n",
            "Done computing similarity matrix.\n",
            "Computing the cosine similarity matrix...\n",
            "Done computing similarity matrix.\n",
            "Computing the cosine similarity matrix...\n",
            "Done computing similarity matrix.\n",
            "Computing the cosine similarity matrix...\n",
            "Done computing similarity matrix.\n",
            "Computing the cosine similarity matrix...\n",
            "Done computing similarity matrix.\n",
            "Computing the cosine similarity matrix...\n",
            "Done computing similarity matrix.\n",
            "Computing the cosine similarity matrix...\n",
            "Done computing similarity matrix.\n",
            "Computing the cosine similarity matrix...\n",
            "Done computing similarity matrix.\n",
            "Computing the cosine similarity matrix...\n",
            "Done computing similarity matrix.\n",
            "Computing the cosine similarity matrix...\n",
            "Done computing similarity matrix.\n",
            "Computing the cosine similarity matrix...\n",
            "Done computing similarity matrix.\n",
            "Computing the cosine similarity matrix...\n",
            "Done computing similarity matrix.\n",
            "Computing the cosine similarity matrix...\n",
            "Done computing similarity matrix.\n",
            "Computing the cosine similarity matrix...\n",
            "Done computing similarity matrix.\n",
            "Computing the cosine similarity matrix...\n",
            "Done computing similarity matrix.\n",
            "Computing the cosine similarity matrix...\n",
            "Done computing similarity matrix.\n",
            "Computing the cosine similarity matrix...\n",
            "Done computing similarity matrix.\n",
            "Computing the cosine similarity matrix...\n",
            "Done computing similarity matrix.\n",
            "Computing the cosine similarity matrix...\n",
            "Done computing similarity matrix.\n",
            "Computing the cosine similarity matrix...\n",
            "Done computing similarity matrix.\n",
            "Computing the cosine similarity matrix...\n",
            "Done computing similarity matrix.\n",
            "Computing the cosine similarity matrix...\n",
            "Done computing similarity matrix.\n",
            "Computing the cosine similarity matrix...\n",
            "Done computing similarity matrix.\n",
            "Computing the cosine similarity matrix...\n",
            "Done computing similarity matrix.\n",
            "Computing the cosine similarity matrix...\n",
            "Done computing similarity matrix.\n",
            "Computing the cosine similarity matrix...\n",
            "Done computing similarity matrix.\n",
            "Computing the cosine similarity matrix...\n",
            "Done computing similarity matrix.\n",
            "Computing the cosine similarity matrix...\n",
            "Done computing similarity matrix.\n",
            "Computing the cosine similarity matrix...\n",
            "Done computing similarity matrix.\n",
            "Computing the cosine similarity matrix...\n",
            "Done computing similarity matrix.\n",
            "Computing the cosine similarity matrix...\n",
            "Done computing similarity matrix.\n",
            "Computing the cosine similarity matrix...\n",
            "Done computing similarity matrix.\n",
            "Computing the cosine similarity matrix...\n",
            "Done computing similarity matrix.\n",
            "Computing the cosine similarity matrix...\n",
            "Done computing similarity matrix.\n",
            "Computing the cosine similarity matrix...\n",
            "Done computing similarity matrix.\n",
            "Computing the cosine similarity matrix...\n",
            "Done computing similarity matrix.\n",
            "Computing the cosine similarity matrix...\n",
            "Done computing similarity matrix.\n",
            "Computing the cosine similarity matrix...\n",
            "Done computing similarity matrix.\n",
            "Computing the cosine similarity matrix...\n",
            "Done computing similarity matrix.\n",
            "Computing the cosine similarity matrix...\n",
            "Done computing similarity matrix.\n",
            "Computing the cosine similarity matrix...\n",
            "Done computing similarity matrix.\n",
            "Computing the cosine similarity matrix...\n",
            "Done computing similarity matrix.\n",
            "Computing the cosine similarity matrix...\n",
            "Done computing similarity matrix.\n",
            "Computing the cosine similarity matrix...\n",
            "Done computing similarity matrix.\n",
            "Computing the cosine similarity matrix...\n",
            "Done computing similarity matrix.\n",
            "Computing the cosine similarity matrix...\n",
            "Done computing similarity matrix.\n",
            "Computing the cosine similarity matrix...\n",
            "Done computing similarity matrix.\n",
            "Computing the cosine similarity matrix...\n",
            "Done computing similarity matrix.\n",
            "Computing the cosine similarity matrix...\n",
            "Done computing similarity matrix.\n",
            "Computing the cosine similarity matrix...\n",
            "Done computing similarity matrix.\n",
            "Computing the cosine similarity matrix...\n",
            "Done computing similarity matrix.\n",
            "Computing the cosine similarity matrix...\n",
            "Done computing similarity matrix.\n"
          ]
        }
      ]
    },
    {
      "cell_type": "markdown",
      "metadata": {
        "id": "xoVOH_xVN1OT"
      },
      "source": [
        "* Performance du modèle **KNNWithMeans**"
      ]
    },
    {
      "cell_type": "code",
      "metadata": {
        "id": "RuYm-FzeN5Ui",
        "colab": {
          "base_uri": "https://localhost:8080/"
        },
        "outputId": "549117c4-249a-443b-80ae-6dd8c1bd99b2"
      },
      "source": [
        "print(gs.best_score[\"rmse\"])\n",
        "print(gs.best_params[\"rmse\"])"
      ],
      "execution_count": null,
      "outputs": [
        {
          "output_type": "stream",
          "name": "stdout",
          "text": [
            "9.04694921100913\n",
            "{'sim_options': {'name': 'cosine', 'min_support': 5, 'user_based': False}, 'k': 10, 'min_k': 3}\n"
          ]
        }
      ]
    },
    {
      "cell_type": "code",
      "metadata": {
        "id": "DCRpZuJcretg",
        "colab": {
          "base_uri": "https://localhost:8080/"
        },
        "outputId": "b4269b68-37c2-4748-9da8-9660a2a657f3"
      },
      "source": [
        "algo_knn = KNNWithMeans(k=10, min_k=3)\n",
        "algo_knn.fit(trainset)\n",
        "\n",
        "cross_validate(algo_knn, data, measures=['RMSE', 'MAE'], cv=3, verbose=True)"
      ],
      "execution_count": null,
      "outputs": [
        {
          "output_type": "stream",
          "name": "stdout",
          "text": [
            "Computing the msd similarity matrix...\n",
            "Done computing similarity matrix.\n",
            "Computing the msd similarity matrix...\n",
            "Done computing similarity matrix.\n",
            "Computing the msd similarity matrix...\n",
            "Done computing similarity matrix.\n",
            "Computing the msd similarity matrix...\n",
            "Done computing similarity matrix.\n",
            "Evaluating RMSE, MAE of algorithm KNNWithMeans on 3 split(s).\n",
            "\n",
            "                  Fold 1  Fold 2  Fold 3  Mean    Std     \n",
            "RMSE (testset)    10.3729 8.5198  8.1432  9.0120  0.9745  \n",
            "MAE (testset)     4.7079  4.6061  4.5105  4.6082  0.0806  \n",
            "Fit time          23.80   23.40   22.17   23.12   0.69    \n",
            "Test time         11.75   12.05   12.14   11.98   0.16    \n"
          ]
        },
        {
          "output_type": "execute_result",
          "data": {
            "text/plain": [
              "{'fit_time': (23.796727895736694, 23.39501667022705, 22.17151403427124),\n",
              " 'test_mae': array([4.7078935 , 4.60612373, 4.5104795 ]),\n",
              " 'test_rmse': array([10.37288533,  8.5198167 ,  8.14321407]),\n",
              " 'test_time': (11.754831314086914, 12.050522089004517, 12.14085054397583)}"
            ]
          },
          "metadata": {},
          "execution_count": 28
        }
      ]
    },
    {
      "cell_type": "code",
      "metadata": {
        "id": "3KCH7ySnGTzp",
        "colab": {
          "base_uri": "https://localhost:8080/"
        },
        "outputId": "5574c91f-171a-4b70-8b37-00d37a307390"
      },
      "source": [
        "predictions_knn = algo_knn.test(testset)\n",
        "accuracy.rmse(predictions_knn)"
      ],
      "execution_count": null,
      "outputs": [
        {
          "output_type": "stream",
          "name": "stdout",
          "text": [
            "RMSE: 8.4328\n"
          ]
        },
        {
          "output_type": "execute_result",
          "data": {
            "text/plain": [
              "8.432820123873519"
            ]
          },
          "metadata": {},
          "execution_count": 29
        }
      ]
    },
    {
      "cell_type": "markdown",
      "metadata": {
        "id": "140OjKktq1bE"
      },
      "source": [
        "* Sauvegarde du modèle et récupération du top 10 des articles pour chaque utilisateur"
      ]
    },
    {
      "cell_type": "code",
      "metadata": {
        "id": "Ui-u64OOHHNX"
      },
      "source": [
        "from collections import defaultdict\n",
        "\n",
        "\n",
        "def get_top_n(predictions, n=10):\n",
        "    \"\"\"Return the top-N recommendation for each user from a set of predictions.\n",
        "\n",
        "    Args:\n",
        "        predictions(list of Prediction objects): The list of predictions, as\n",
        "            returned by the test method of an algorithm.\n",
        "        n(int): The number of recommendation to output for each user. Default\n",
        "            is 10.\n",
        "\n",
        "    Returns:\n",
        "    A dict where keys are user (raw) ids and values are lists of tuples:\n",
        "        [(raw item id, rating estimation), ...] of size n.\n",
        "    \"\"\"\n",
        "\n",
        "    # First map the predictions to each user.\n",
        "    top_n = defaultdict(list)\n",
        "    for uid, iid, true_r, est, _ in predictions:\n",
        "        top_n[uid].append((iid, est))\n",
        "\n",
        "    # Then sort the predictions for each user and retrieve the k highest ones.\n",
        "    for uid, user_ratings in top_n.items():\n",
        "        user_ratings.sort(key=lambda x: x[1], reverse=True)\n",
        "        top_n[uid] = user_ratings[:n]\n",
        "\n",
        "    return top_n\n",
        "\n"
      ],
      "execution_count": null,
      "outputs": []
    },
    {
      "cell_type": "code",
      "metadata": {
        "id": "XnVmAdzTq46G"
      },
      "source": [
        "top_10_knn = get_top_n(predictions_knn, n=10)\n",
        "\n",
        "with open(\"top_10_knn.txt\", \"wb\") as fp:\n",
        "    pickle.dump(top_10_knn, fp)\n",
        "\n",
        "file_model = open('algo_knn.pickle', 'wb')\n",
        "pickle.dump(algo_knn, file_model)\n",
        "file_model.close()"
      ],
      "execution_count": null,
      "outputs": []
    },
    {
      "cell_type": "markdown",
      "metadata": {
        "id": "ias_L8gpOrZr"
      },
      "source": [
        "## Deuxième approche avec **SVD** et optimisation des paramètres du modèle\n",
        "\n",
        "> Il s'agit d'un algorithme de factorisation de matrice les plus utilisés. L'algorithme **SVD** est efficace car il permet de trouver des variables latentes qui lient les utilisateurs et les articles"
      ]
    },
    {
      "cell_type": "markdown",
      "metadata": {
        "id": "PxHGRU4IJxOA"
      },
      "source": [
        "* Entrainement du modèle et recherche des paramètres optimaux"
      ]
    },
    {
      "cell_type": "code",
      "metadata": {
        "id": "SBw-IiQ-JMiX"
      },
      "source": [
        "param_grid = {\"n_epochs\": [5, 10],\n",
        "              \"lr_all\": [0.002, 0.005],\n",
        "              \"reg_all\": [0.4, 0.6]\n",
        "}\n",
        "\n",
        "gs = GridSearchCV(SVD, param_grid, measures=[\"rmse\", \"mae\"], cv=3)\n",
        "\n",
        "gs.fit(data)"
      ],
      "execution_count": null,
      "outputs": []
    },
    {
      "cell_type": "markdown",
      "metadata": {
        "id": "u35QAS0cJ3iH"
      },
      "source": [
        "* Performance du modèle **SVD**"
      ]
    },
    {
      "cell_type": "code",
      "metadata": {
        "id": "i2wwFudxMFUg",
        "colab": {
          "base_uri": "https://localhost:8080/"
        },
        "outputId": "5e5d0763-927b-46c5-be7e-40c9db6de6ba"
      },
      "source": [
        "print(gs.best_score[\"rmse\"])\n",
        "print(gs.best_params[\"rmse\"])"
      ],
      "execution_count": null,
      "outputs": [
        {
          "output_type": "stream",
          "name": "stdout",
          "text": [
            "9.02624979339465\n",
            "{'n_epochs': 5, 'lr_all': 0.002, 'reg_all': 0.4}\n"
          ]
        }
      ]
    },
    {
      "cell_type": "code",
      "metadata": {
        "id": "3PIy8du7Q8LG",
        "colab": {
          "base_uri": "https://localhost:8080/"
        },
        "outputId": "95823bf1-ddd1-4405-89d1-8b47a45c3a3e"
      },
      "source": [
        "algo_svd = SVD()\n",
        "algo_svd.fit(trainset)\n",
        "\n",
        "cross_validate(algo_svd, data, measures=['RMSE', 'MAE'], cv=3, verbose=True)"
      ],
      "execution_count": null,
      "outputs": [
        {
          "output_type": "stream",
          "name": "stdout",
          "text": [
            "Evaluating RMSE, MAE of algorithm SVD on 3 split(s).\n",
            "\n",
            "                  Fold 1  Fold 2  Fold 3  Mean    Std     \n",
            "RMSE (testset)    9.7908  8.5266  8.7991  9.0388  0.5433  \n",
            "MAE (testset)     4.6473  4.5686  4.5654  4.5938  0.0379  \n",
            "Fit time          1.52    1.47    1.49    1.49    0.02    \n",
            "Test time         0.10    0.09    0.10    0.10    0.00    \n"
          ]
        },
        {
          "output_type": "execute_result",
          "data": {
            "text/plain": [
              "{'fit_time': (1.5248782634735107, 1.4735164642333984, 1.486208200454712),\n",
              " 'test_mae': array([4.64730263, 4.56855263, 4.56543194]),\n",
              " 'test_rmse': array([9.79084226, 8.52660696, 8.79905581]),\n",
              " 'test_time': (0.09808540344238281, 0.09408044815063477, 0.09716606140136719)}"
            ]
          },
          "metadata": {},
          "execution_count": 34
        }
      ]
    },
    {
      "cell_type": "code",
      "metadata": {
        "colab": {
          "base_uri": "https://localhost:8080/"
        },
        "id": "XkwOWO5oGdfZ",
        "outputId": "1a1b9fb4-3739-402e-d8c0-9a852a26d950"
      },
      "source": [
        "predictions_svd = algo_svd.test(testset)\n",
        "accuracy.rmse(predictions_svd)"
      ],
      "execution_count": null,
      "outputs": [
        {
          "output_type": "stream",
          "name": "stdout",
          "text": [
            "RMSE: 8.4208\n"
          ]
        },
        {
          "output_type": "execute_result",
          "data": {
            "text/plain": [
              "8.420771102750168"
            ]
          },
          "metadata": {},
          "execution_count": 35
        }
      ]
    },
    {
      "cell_type": "markdown",
      "metadata": {
        "id": "_KOF2u5PrQk3"
      },
      "source": [
        "* Sauvegarde du modèle et récupération du top 10 des articles pour chaque utilisateur"
      ]
    },
    {
      "cell_type": "code",
      "metadata": {
        "id": "08NawRxwrTHj"
      },
      "source": [
        "top_10_svd = get_top_n(predictions_svd, n=10)\n",
        "\n",
        "with open(\"top_10_svd.txt\", \"wb\") as fp:\n",
        "    pickle.dump(top_10_svd, fp)\n",
        "\n",
        "file_model = open('algo_svd.pickle', 'wb')\n",
        "pickle.dump(algo_svd, file_model)\n",
        "file_model.close()"
      ],
      "execution_count": null,
      "outputs": []
    },
    {
      "cell_type": "markdown",
      "metadata": {
        "id": "3YmV7YhcrqYI"
      },
      "source": [
        "# 4. Librairie **Implicit**\n"
      ]
    },
    {
      "cell_type": "code",
      "metadata": {
        "id": "NDkiT6gyMmcH",
        "colab": {
          "base_uri": "https://localhost:8080/"
        },
        "outputId": "f6a16752-fa75-4178-878d-034bbb812983"
      },
      "source": [
        "!pip install implicit"
      ],
      "execution_count": null,
      "outputs": [
        {
          "output_type": "stream",
          "name": "stdout",
          "text": [
            "Collecting implicit\n",
            "  Downloading implicit-0.4.8.tar.gz (1.1 MB)\n",
            "\u001b[?25l\r\u001b[K     |▎                               | 10 kB 33.0 MB/s eta 0:00:01\r\u001b[K     |▋                               | 20 kB 35.2 MB/s eta 0:00:01\r\u001b[K     |▉                               | 30 kB 22.3 MB/s eta 0:00:01\r\u001b[K     |█▏                              | 40 kB 18.3 MB/s eta 0:00:01\r\u001b[K     |█▍                              | 51 kB 7.5 MB/s eta 0:00:01\r\u001b[K     |█▊                              | 61 kB 8.8 MB/s eta 0:00:01\r\u001b[K     |██                              | 71 kB 8.4 MB/s eta 0:00:01\r\u001b[K     |██▎                             | 81 kB 9.4 MB/s eta 0:00:01\r\u001b[K     |██▋                             | 92 kB 10.0 MB/s eta 0:00:01\r\u001b[K     |██▉                             | 102 kB 7.9 MB/s eta 0:00:01\r\u001b[K     |███▏                            | 112 kB 7.9 MB/s eta 0:00:01\r\u001b[K     |███▍                            | 122 kB 7.9 MB/s eta 0:00:01\r\u001b[K     |███▊                            | 133 kB 7.9 MB/s eta 0:00:01\r\u001b[K     |████                            | 143 kB 7.9 MB/s eta 0:00:01\r\u001b[K     |████▎                           | 153 kB 7.9 MB/s eta 0:00:01\r\u001b[K     |████▋                           | 163 kB 7.9 MB/s eta 0:00:01\r\u001b[K     |████▉                           | 174 kB 7.9 MB/s eta 0:00:01\r\u001b[K     |█████▏                          | 184 kB 7.9 MB/s eta 0:00:01\r\u001b[K     |█████▍                          | 194 kB 7.9 MB/s eta 0:00:01\r\u001b[K     |█████▊                          | 204 kB 7.9 MB/s eta 0:00:01\r\u001b[K     |██████                          | 215 kB 7.9 MB/s eta 0:00:01\r\u001b[K     |██████▎                         | 225 kB 7.9 MB/s eta 0:00:01\r\u001b[K     |██████▋                         | 235 kB 7.9 MB/s eta 0:00:01\r\u001b[K     |██████▉                         | 245 kB 7.9 MB/s eta 0:00:01\r\u001b[K     |███████▏                        | 256 kB 7.9 MB/s eta 0:00:01\r\u001b[K     |███████▌                        | 266 kB 7.9 MB/s eta 0:00:01\r\u001b[K     |███████▊                        | 276 kB 7.9 MB/s eta 0:00:01\r\u001b[K     |████████                        | 286 kB 7.9 MB/s eta 0:00:01\r\u001b[K     |████████▎                       | 296 kB 7.9 MB/s eta 0:00:01\r\u001b[K     |████████▋                       | 307 kB 7.9 MB/s eta 0:00:01\r\u001b[K     |████████▉                       | 317 kB 7.9 MB/s eta 0:00:01\r\u001b[K     |█████████▏                      | 327 kB 7.9 MB/s eta 0:00:01\r\u001b[K     |█████████▌                      | 337 kB 7.9 MB/s eta 0:00:01\r\u001b[K     |█████████▊                      | 348 kB 7.9 MB/s eta 0:00:01\r\u001b[K     |██████████                      | 358 kB 7.9 MB/s eta 0:00:01\r\u001b[K     |██████████▎                     | 368 kB 7.9 MB/s eta 0:00:01\r\u001b[K     |██████████▋                     | 378 kB 7.9 MB/s eta 0:00:01\r\u001b[K     |██████████▉                     | 389 kB 7.9 MB/s eta 0:00:01\r\u001b[K     |███████████▏                    | 399 kB 7.9 MB/s eta 0:00:01\r\u001b[K     |███████████▌                    | 409 kB 7.9 MB/s eta 0:00:01\r\u001b[K     |███████████▊                    | 419 kB 7.9 MB/s eta 0:00:01\r\u001b[K     |████████████                    | 430 kB 7.9 MB/s eta 0:00:01\r\u001b[K     |████████████▎                   | 440 kB 7.9 MB/s eta 0:00:01\r\u001b[K     |████████████▋                   | 450 kB 7.9 MB/s eta 0:00:01\r\u001b[K     |█████████████                   | 460 kB 7.9 MB/s eta 0:00:01\r\u001b[K     |█████████████▏                  | 471 kB 7.9 MB/s eta 0:00:01\r\u001b[K     |█████████████▌                  | 481 kB 7.9 MB/s eta 0:00:01\r\u001b[K     |█████████████▊                  | 491 kB 7.9 MB/s eta 0:00:01\r\u001b[K     |██████████████                  | 501 kB 7.9 MB/s eta 0:00:01\r\u001b[K     |██████████████▎                 | 512 kB 7.9 MB/s eta 0:00:01\r\u001b[K     |██████████████▋                 | 522 kB 7.9 MB/s eta 0:00:01\r\u001b[K     |███████████████                 | 532 kB 7.9 MB/s eta 0:00:01\r\u001b[K     |███████████████▏                | 542 kB 7.9 MB/s eta 0:00:01\r\u001b[K     |███████████████▌                | 552 kB 7.9 MB/s eta 0:00:01\r\u001b[K     |███████████████▊                | 563 kB 7.9 MB/s eta 0:00:01\r\u001b[K     |████████████████                | 573 kB 7.9 MB/s eta 0:00:01\r\u001b[K     |████████████████▎               | 583 kB 7.9 MB/s eta 0:00:01\r\u001b[K     |████████████████▋               | 593 kB 7.9 MB/s eta 0:00:01\r\u001b[K     |█████████████████               | 604 kB 7.9 MB/s eta 0:00:01\r\u001b[K     |█████████████████▏              | 614 kB 7.9 MB/s eta 0:00:01\r\u001b[K     |█████████████████▌              | 624 kB 7.9 MB/s eta 0:00:01\r\u001b[K     |█████████████████▊              | 634 kB 7.9 MB/s eta 0:00:01\r\u001b[K     |██████████████████              | 645 kB 7.9 MB/s eta 0:00:01\r\u001b[K     |██████████████████▍             | 655 kB 7.9 MB/s eta 0:00:01\r\u001b[K     |██████████████████▋             | 665 kB 7.9 MB/s eta 0:00:01\r\u001b[K     |███████████████████             | 675 kB 7.9 MB/s eta 0:00:01\r\u001b[K     |███████████████████▏            | 686 kB 7.9 MB/s eta 0:00:01\r\u001b[K     |███████████████████▌            | 696 kB 7.9 MB/s eta 0:00:01\r\u001b[K     |███████████████████▊            | 706 kB 7.9 MB/s eta 0:00:01\r\u001b[K     |████████████████████            | 716 kB 7.9 MB/s eta 0:00:01\r\u001b[K     |████████████████████▍           | 727 kB 7.9 MB/s eta 0:00:01\r\u001b[K     |████████████████████▋           | 737 kB 7.9 MB/s eta 0:00:01\r\u001b[K     |█████████████████████           | 747 kB 7.9 MB/s eta 0:00:01\r\u001b[K     |█████████████████████▏          | 757 kB 7.9 MB/s eta 0:00:01\r\u001b[K     |█████████████████████▌          | 768 kB 7.9 MB/s eta 0:00:01\r\u001b[K     |█████████████████████▊          | 778 kB 7.9 MB/s eta 0:00:01\r\u001b[K     |██████████████████████          | 788 kB 7.9 MB/s eta 0:00:01\r\u001b[K     |██████████████████████▍         | 798 kB 7.9 MB/s eta 0:00:01\r\u001b[K     |██████████████████████▋         | 808 kB 7.9 MB/s eta 0:00:01\r\u001b[K     |███████████████████████         | 819 kB 7.9 MB/s eta 0:00:01\r\u001b[K     |███████████████████████▏        | 829 kB 7.9 MB/s eta 0:00:01\r\u001b[K     |███████████████████████▌        | 839 kB 7.9 MB/s eta 0:00:01\r\u001b[K     |███████████████████████▉        | 849 kB 7.9 MB/s eta 0:00:01\r\u001b[K     |████████████████████████        | 860 kB 7.9 MB/s eta 0:00:01\r\u001b[K     |████████████████████████▍       | 870 kB 7.9 MB/s eta 0:00:01\r\u001b[K     |████████████████████████▋       | 880 kB 7.9 MB/s eta 0:00:01\r\u001b[K     |█████████████████████████       | 890 kB 7.9 MB/s eta 0:00:01\r\u001b[K     |█████████████████████████▏      | 901 kB 7.9 MB/s eta 0:00:01\r\u001b[K     |█████████████████████████▌      | 911 kB 7.9 MB/s eta 0:00:01\r\u001b[K     |█████████████████████████▉      | 921 kB 7.9 MB/s eta 0:00:01\r\u001b[K     |██████████████████████████      | 931 kB 7.9 MB/s eta 0:00:01\r\u001b[K     |██████████████████████████▍     | 942 kB 7.9 MB/s eta 0:00:01\r\u001b[K     |██████████████████████████▋     | 952 kB 7.9 MB/s eta 0:00:01\r\u001b[K     |███████████████████████████     | 962 kB 7.9 MB/s eta 0:00:01\r\u001b[K     |███████████████████████████▏    | 972 kB 7.9 MB/s eta 0:00:01\r\u001b[K     |███████████████████████████▌    | 983 kB 7.9 MB/s eta 0:00:01\r\u001b[K     |███████████████████████████▉    | 993 kB 7.9 MB/s eta 0:00:01\r\u001b[K     |████████████████████████████    | 1.0 MB 7.9 MB/s eta 0:00:01\r\u001b[K     |████████████████████████████▍   | 1.0 MB 7.9 MB/s eta 0:00:01\r\u001b[K     |████████████████████████████▋   | 1.0 MB 7.9 MB/s eta 0:00:01\r\u001b[K     |█████████████████████████████   | 1.0 MB 7.9 MB/s eta 0:00:01\r\u001b[K     |█████████████████████████████▎  | 1.0 MB 7.9 MB/s eta 0:00:01\r\u001b[K     |█████████████████████████████▌  | 1.1 MB 7.9 MB/s eta 0:00:01\r\u001b[K     |█████████████████████████████▉  | 1.1 MB 7.9 MB/s eta 0:00:01\r\u001b[K     |██████████████████████████████  | 1.1 MB 7.9 MB/s eta 0:00:01\r\u001b[K     |██████████████████████████████▍ | 1.1 MB 7.9 MB/s eta 0:00:01\r\u001b[K     |██████████████████████████████▋ | 1.1 MB 7.9 MB/s eta 0:00:01\r\u001b[K     |███████████████████████████████ | 1.1 MB 7.9 MB/s eta 0:00:01\r\u001b[K     |███████████████████████████████▎| 1.1 MB 7.9 MB/s eta 0:00:01\r\u001b[K     |███████████████████████████████▌| 1.1 MB 7.9 MB/s eta 0:00:01\r\u001b[K     |███████████████████████████████▉| 1.1 MB 7.9 MB/s eta 0:00:01\r\u001b[K     |████████████████████████████████| 1.1 MB 7.9 MB/s \n",
            "\u001b[?25h  Installing build dependencies ... \u001b[?25l\u001b[?25hdone\n",
            "  Getting requirements to build wheel ... \u001b[?25l\u001b[?25hdone\n",
            "  Installing backend dependencies ... \u001b[?25l\u001b[?25hdone\n",
            "    Preparing wheel metadata ... \u001b[?25l\u001b[?25hdone\n",
            "Requirement already satisfied: numpy in /usr/local/lib/python3.7/dist-packages (from implicit) (1.19.5)\n",
            "Requirement already satisfied: tqdm>=4.27 in /usr/local/lib/python3.7/dist-packages (from implicit) (4.62.3)\n",
            "Requirement already satisfied: scipy>=0.16 in /usr/local/lib/python3.7/dist-packages (from implicit) (1.4.1)\n",
            "Building wheels for collected packages: implicit\n",
            "  Building wheel for implicit (PEP 517) ... \u001b[?25l\u001b[?25hdone\n",
            "  Created wheel for implicit: filename=implicit-0.4.8-cp37-cp37m-linux_x86_64.whl size=4606631 sha256=cdf7cd4877385c078b8e736e13800b1e9c0703436c79bb141e74399ea49e0e89\n",
            "  Stored in directory: /root/.cache/pip/wheels/88/e6/34/25e73cccbaf1a961154bb562a5f86123b68fdbf40e306073d6\n",
            "Successfully built implicit\n",
            "Installing collected packages: implicit\n",
            "Successfully installed implicit-0.4.8\n"
          ]
        }
      ]
    },
    {
      "cell_type": "markdown",
      "metadata": {
        "id": "it-yWzmbgoPC"
      },
      "source": [
        "> L'algorithme **AlternatingLeastSquares** permet la factorisation de matrice dans le cas du Collaborative Filtering implicite."
      ]
    },
    {
      "cell_type": "code",
      "metadata": {
        "id": "GuvFAAwc1ozn"
      },
      "source": [
        "import scipy.sparse as sparse\n",
        "import implicit\n",
        "\n",
        "user_categories = sparse.csr_matrix((user_rating_enough['rating'].astype(float),\n",
        "                                   (user_rating_enough['user_id'],\n",
        "                                    user_rating_enough['category_id'])))\n",
        "category_users = sparse.csr_matrix((user_rating_enough['rating'].astype(float),\n",
        "                                (user_rating_enough['category_id'],\n",
        "                                 user_rating_enough['user_id'])))\n",
        "\n",
        "alpha = 40\n",
        "train_c = (category_users*alpha).astype('double')"
      ],
      "execution_count": null,
      "outputs": []
    },
    {
      "cell_type": "code",
      "metadata": {
        "id": "j-96o5jcMpwI",
        "colab": {
          "base_uri": "https://localhost:8080/",
          "height": 49,
          "referenced_widgets": [
            "684d08de36e6404abd094b4c52185bca",
            "2522af8a6a954424b7a6b1d61fe7cb02",
            "8f2330e74d3f45209dc4a5c59e0228d0",
            "c50ef9c244c94746b501b55b54392332",
            "aa55e9f70af445418f4902650a355dd7",
            "5031077857a642989649d53b8c67b3f8",
            "5791322aa30543c4832e8b13769c2a1c",
            "3fc20dd9758c48a6a74d7d6471e1ec16",
            "421c05901bb949fa9374b3e87688bfca",
            "3494373b921e4ae59368cac9deeff20a",
            "9d03e9e39d2e4605a80c27ea77bb61e0"
          ]
        },
        "outputId": "f11ccd25-8d50-446a-bb7c-1fef26720bcc"
      },
      "source": [
        "model = implicit.als.AlternatingLeastSquares(factors=500, iterations=10)\n",
        "\n",
        "model.fit(train_c)"
      ],
      "execution_count": null,
      "outputs": [
        {
          "output_type": "display_data",
          "data": {
            "application/vnd.jupyter.widget-view+json": {
              "model_id": "684d08de36e6404abd094b4c52185bca",
              "version_minor": 0,
              "version_major": 2
            },
            "text/plain": [
              "  0%|          | 0/10 [00:00<?, ?it/s]"
            ]
          },
          "metadata": {}
        }
      ]
    },
    {
      "cell_type": "code",
      "metadata": {
        "id": "yj-63qms41T2"
      },
      "source": [
        "import csv\n",
        "\n",
        "fields = 'user_id', 'article_list'\n",
        "filename = 'rec_train.csv'\n",
        "\n",
        "with open (filename, 'a', newline = '') as f:\n",
        "    writer = csv.writer(f)\n",
        "    writer.writerow(fields)\n",
        "    userId = user_rating_enough['user_id'].values.tolist()\n",
        "    for user in userId:\n",
        "        scores = []\n",
        "        items = []\n",
        "        results = []\n",
        "        results.append(user)\n",
        "        recommendations = model.recommend(user, user_categories, N = 5)\n",
        "        for item in recommendations:\n",
        "            ids, score = item\n",
        "            scores.append(score)\n",
        "            items.append(ids)\n",
        "        results.append(items)\n",
        "        writer.writerow(results)\n",
        "\n"
      ],
      "execution_count": null,
      "outputs": []
    },
    {
      "cell_type": "markdown",
      "metadata": {
        "id": "dbCHMPTufQu8"
      },
      "source": [
        "* Performance :"
      ]
    },
    {
      "cell_type": "code",
      "metadata": {
        "colab": {
          "base_uri": "https://localhost:8080/"
        },
        "id": "czHW7Xs0Ed9I",
        "outputId": "48c987ca-484d-44a6-d6f0-79ae6f0a134d"
      },
      "source": [
        "!pip install ml_metrics"
      ],
      "execution_count": null,
      "outputs": [
        {
          "output_type": "stream",
          "name": "stdout",
          "text": [
            "Collecting ml_metrics\n",
            "  Downloading ml_metrics-0.1.4.tar.gz (5.0 kB)\n",
            "Requirement already satisfied: numpy in /usr/local/lib/python3.7/dist-packages (from ml_metrics) (1.19.5)\n",
            "Requirement already satisfied: pandas in /usr/local/lib/python3.7/dist-packages (from ml_metrics) (1.1.5)\n",
            "Requirement already satisfied: pytz>=2017.2 in /usr/local/lib/python3.7/dist-packages (from pandas->ml_metrics) (2018.9)\n",
            "Requirement already satisfied: python-dateutil>=2.7.3 in /usr/local/lib/python3.7/dist-packages (from pandas->ml_metrics) (2.8.2)\n",
            "Requirement already satisfied: six>=1.5 in /usr/local/lib/python3.7/dist-packages (from python-dateutil>=2.7.3->pandas->ml_metrics) (1.15.0)\n",
            "Building wheels for collected packages: ml-metrics\n",
            "  Building wheel for ml-metrics (setup.py) ... \u001b[?25l\u001b[?25hdone\n",
            "  Created wheel for ml-metrics: filename=ml_metrics-0.1.4-py3-none-any.whl size=7845 sha256=e00373b4a68b0af11c390df7457818f1ebba0024d4a9a74578ef34bd5ddd3177\n",
            "  Stored in directory: /root/.cache/pip/wheels/56/41/5b/0c6d42b3604a5c823d8922564c4708f84962fa7f2f4facfa6d\n",
            "Successfully built ml-metrics\n",
            "Installing collected packages: ml-metrics\n",
            "Successfully installed ml-metrics-0.1.4\n"
          ]
        }
      ]
    },
    {
      "cell_type": "code",
      "metadata": {
        "colab": {
          "base_uri": "https://localhost:8080/"
        },
        "id": "SSqeWMk6fTVN",
        "outputId": "0f03a34d-0f61-4d0b-d43b-5149aa460fb1"
      },
      "source": [
        "import ast\n",
        "import numpy as np\n",
        "import ml_metrics\n",
        "\n",
        "predicted = pd.read_csv('rec_train.csv')\n",
        "predicted = predicted['article_list']\n",
        "predicted = [ast.literal_eval(a) for a in predicted]\n",
        "actual = train['article_id']\n",
        "actual = np.array(actual).reshape(2390544, 1)\n",
        "score = ml_metrics.mapk(actual, predicted, 5)\n",
        "\n",
        "print('Mean avg. precision at k for train set:','{:.10f}'.format(score))"
      ],
      "execution_count": null,
      "outputs": [
        {
          "output_type": "stream",
          "name": "stdout",
          "text": [
            "Mean avg. precision at k for train set: 0.0000000000\n"
          ]
        }
      ]
    },
    {
      "cell_type": "markdown",
      "metadata": {
        "id": "ZZyZ5pxHD_Vd"
      },
      "source": [
        "# 5. Feature Engineering\n",
        "\n",
        "* Corrélation entre les variables de **data_click_df**"
      ]
    },
    {
      "cell_type": "code",
      "metadata": {
        "id": "H-qSj4G5EEmY",
        "colab": {
          "base_uri": "https://localhost:8080/"
        },
        "outputId": "28abff26-9e93-44fa-82d5-a33838dd28ff"
      },
      "source": [
        "data_click_df.corr()"
      ],
      "execution_count": null,
      "outputs": [
        {
          "output_type": "execute_result",
          "data": {
            "text/html": [
              "<div>\n",
              "<style scoped>\n",
              "    .dataframe tbody tr th:only-of-type {\n",
              "        vertical-align: middle;\n",
              "    }\n",
              "\n",
              "    .dataframe tbody tr th {\n",
              "        vertical-align: top;\n",
              "    }\n",
              "\n",
              "    .dataframe thead th {\n",
              "        text-align: right;\n",
              "    }\n",
              "</style>\n",
              "<table border=\"1\" class=\"dataframe\">\n",
              "  <thead>\n",
              "    <tr style=\"text-align: right;\">\n",
              "      <th></th>\n",
              "      <th>Unnamed: 0</th>\n",
              "      <th>user_id</th>\n",
              "      <th>session_id</th>\n",
              "      <th>session_start</th>\n",
              "      <th>session_size</th>\n",
              "      <th>click_article_id</th>\n",
              "      <th>click_timestamp</th>\n",
              "      <th>click_environment</th>\n",
              "      <th>click_deviceGroup</th>\n",
              "      <th>click_os</th>\n",
              "      <th>click_country</th>\n",
              "      <th>click_region</th>\n",
              "      <th>click_referrer_type</th>\n",
              "    </tr>\n",
              "  </thead>\n",
              "  <tbody>\n",
              "    <tr>\n",
              "      <th>Unnamed: 0</th>\n",
              "      <td>1.000000</td>\n",
              "      <td>0.309581</td>\n",
              "      <td>0.995470</td>\n",
              "      <td>0.995470</td>\n",
              "      <td>0.010596</td>\n",
              "      <td>0.053229</td>\n",
              "      <td>0.994440</td>\n",
              "      <td>-0.007726</td>\n",
              "      <td>0.028084</td>\n",
              "      <td>-0.027354</td>\n",
              "      <td>-0.005753</td>\n",
              "      <td>-0.001063</td>\n",
              "      <td>-0.008196</td>\n",
              "    </tr>\n",
              "    <tr>\n",
              "      <th>user_id</th>\n",
              "      <td>0.309581</td>\n",
              "      <td>1.000000</td>\n",
              "      <td>0.298914</td>\n",
              "      <td>0.298914</td>\n",
              "      <td>-0.120516</td>\n",
              "      <td>0.002783</td>\n",
              "      <td>0.298206</td>\n",
              "      <td>0.010154</td>\n",
              "      <td>-0.001164</td>\n",
              "      <td>-0.035183</td>\n",
              "      <td>-0.025436</td>\n",
              "      <td>-0.019286</td>\n",
              "      <td>0.061559</td>\n",
              "    </tr>\n",
              "    <tr>\n",
              "      <th>session_id</th>\n",
              "      <td>0.995470</td>\n",
              "      <td>0.298914</td>\n",
              "      <td>1.000000</td>\n",
              "      <td>1.000000</td>\n",
              "      <td>0.010378</td>\n",
              "      <td>0.050934</td>\n",
              "      <td>0.999008</td>\n",
              "      <td>-0.008273</td>\n",
              "      <td>0.027373</td>\n",
              "      <td>-0.026146</td>\n",
              "      <td>-0.005614</td>\n",
              "      <td>-0.000637</td>\n",
              "      <td>-0.008510</td>\n",
              "    </tr>\n",
              "    <tr>\n",
              "      <th>session_start</th>\n",
              "      <td>0.995470</td>\n",
              "      <td>0.298914</td>\n",
              "      <td>1.000000</td>\n",
              "      <td>1.000000</td>\n",
              "      <td>0.010378</td>\n",
              "      <td>0.050934</td>\n",
              "      <td>0.999008</td>\n",
              "      <td>-0.008273</td>\n",
              "      <td>0.027373</td>\n",
              "      <td>-0.026146</td>\n",
              "      <td>-0.005614</td>\n",
              "      <td>-0.000637</td>\n",
              "      <td>-0.008510</td>\n",
              "    </tr>\n",
              "    <tr>\n",
              "      <th>session_size</th>\n",
              "      <td>0.010596</td>\n",
              "      <td>-0.120516</td>\n",
              "      <td>0.010378</td>\n",
              "      <td>0.010378</td>\n",
              "      <td>1.000000</td>\n",
              "      <td>-0.021707</td>\n",
              "      <td>0.017478</td>\n",
              "      <td>0.026922</td>\n",
              "      <td>-0.133212</td>\n",
              "      <td>0.094333</td>\n",
              "      <td>-0.003967</td>\n",
              "      <td>-0.010164</td>\n",
              "      <td>-0.091380</td>\n",
              "    </tr>\n",
              "    <tr>\n",
              "      <th>click_article_id</th>\n",
              "      <td>0.053229</td>\n",
              "      <td>0.002783</td>\n",
              "      <td>0.050934</td>\n",
              "      <td>0.050934</td>\n",
              "      <td>-0.021707</td>\n",
              "      <td>1.000000</td>\n",
              "      <td>0.050767</td>\n",
              "      <td>0.004754</td>\n",
              "      <td>0.011653</td>\n",
              "      <td>-0.006055</td>\n",
              "      <td>-0.006718</td>\n",
              "      <td>0.114236</td>\n",
              "      <td>0.007195</td>\n",
              "    </tr>\n",
              "    <tr>\n",
              "      <th>click_timestamp</th>\n",
              "      <td>0.994440</td>\n",
              "      <td>0.298206</td>\n",
              "      <td>0.999008</td>\n",
              "      <td>0.999008</td>\n",
              "      <td>0.017478</td>\n",
              "      <td>0.050767</td>\n",
              "      <td>1.000000</td>\n",
              "      <td>-0.007613</td>\n",
              "      <td>0.024373</td>\n",
              "      <td>-0.024099</td>\n",
              "      <td>-0.005550</td>\n",
              "      <td>-0.000627</td>\n",
              "      <td>-0.008444</td>\n",
              "    </tr>\n",
              "    <tr>\n",
              "      <th>click_environment</th>\n",
              "      <td>-0.007726</td>\n",
              "      <td>0.010154</td>\n",
              "      <td>-0.008273</td>\n",
              "      <td>-0.008273</td>\n",
              "      <td>0.026922</td>\n",
              "      <td>0.004754</td>\n",
              "      <td>-0.007613</td>\n",
              "      <td>1.000000</td>\n",
              "      <td>-0.276354</td>\n",
              "      <td>0.077306</td>\n",
              "      <td>-0.044567</td>\n",
              "      <td>-0.029518</td>\n",
              "      <td>-0.045122</td>\n",
              "    </tr>\n",
              "    <tr>\n",
              "      <th>click_deviceGroup</th>\n",
              "      <td>0.028084</td>\n",
              "      <td>-0.001164</td>\n",
              "      <td>0.027373</td>\n",
              "      <td>0.027373</td>\n",
              "      <td>-0.133212</td>\n",
              "      <td>0.011653</td>\n",
              "      <td>0.024373</td>\n",
              "      <td>-0.276354</td>\n",
              "      <td>1.000000</td>\n",
              "      <td>-0.610782</td>\n",
              "      <td>0.087921</td>\n",
              "      <td>0.038088</td>\n",
              "      <td>0.038785</td>\n",
              "    </tr>\n",
              "    <tr>\n",
              "      <th>click_os</th>\n",
              "      <td>-0.027354</td>\n",
              "      <td>-0.035183</td>\n",
              "      <td>-0.026146</td>\n",
              "      <td>-0.026146</td>\n",
              "      <td>0.094333</td>\n",
              "      <td>-0.006055</td>\n",
              "      <td>-0.024099</td>\n",
              "      <td>0.077306</td>\n",
              "      <td>-0.610782</td>\n",
              "      <td>1.000000</td>\n",
              "      <td>0.038409</td>\n",
              "      <td>0.016910</td>\n",
              "      <td>-0.018690</td>\n",
              "    </tr>\n",
              "    <tr>\n",
              "      <th>click_country</th>\n",
              "      <td>-0.005753</td>\n",
              "      <td>-0.025436</td>\n",
              "      <td>-0.005614</td>\n",
              "      <td>-0.005614</td>\n",
              "      <td>-0.003967</td>\n",
              "      <td>-0.006718</td>\n",
              "      <td>-0.005550</td>\n",
              "      <td>-0.044567</td>\n",
              "      <td>0.087921</td>\n",
              "      <td>0.038409</td>\n",
              "      <td>1.000000</td>\n",
              "      <td>0.283838</td>\n",
              "      <td>0.007113</td>\n",
              "    </tr>\n",
              "    <tr>\n",
              "      <th>click_region</th>\n",
              "      <td>-0.001063</td>\n",
              "      <td>-0.019286</td>\n",
              "      <td>-0.000637</td>\n",
              "      <td>-0.000637</td>\n",
              "      <td>-0.010164</td>\n",
              "      <td>0.114236</td>\n",
              "      <td>-0.000627</td>\n",
              "      <td>-0.029518</td>\n",
              "      <td>0.038088</td>\n",
              "      <td>0.016910</td>\n",
              "      <td>0.283838</td>\n",
              "      <td>1.000000</td>\n",
              "      <td>0.017859</td>\n",
              "    </tr>\n",
              "    <tr>\n",
              "      <th>click_referrer_type</th>\n",
              "      <td>-0.008196</td>\n",
              "      <td>0.061559</td>\n",
              "      <td>-0.008510</td>\n",
              "      <td>-0.008510</td>\n",
              "      <td>-0.091380</td>\n",
              "      <td>0.007195</td>\n",
              "      <td>-0.008444</td>\n",
              "      <td>-0.045122</td>\n",
              "      <td>0.038785</td>\n",
              "      <td>-0.018690</td>\n",
              "      <td>0.007113</td>\n",
              "      <td>0.017859</td>\n",
              "      <td>1.000000</td>\n",
              "    </tr>\n",
              "  </tbody>\n",
              "</table>\n",
              "</div>"
            ],
            "text/plain": [
              "                     Unnamed: 0   user_id  ...  click_region  click_referrer_type\n",
              "Unnamed: 0             1.000000  0.309581  ...     -0.001063            -0.008196\n",
              "user_id                0.309581  1.000000  ...     -0.019286             0.061559\n",
              "session_id             0.995470  0.298914  ...     -0.000637            -0.008510\n",
              "session_start          0.995470  0.298914  ...     -0.000637            -0.008510\n",
              "session_size           0.010596 -0.120516  ...     -0.010164            -0.091380\n",
              "click_article_id       0.053229  0.002783  ...      0.114236             0.007195\n",
              "click_timestamp        0.994440  0.298206  ...     -0.000627            -0.008444\n",
              "click_environment     -0.007726  0.010154  ...     -0.029518            -0.045122\n",
              "click_deviceGroup      0.028084 -0.001164  ...      0.038088             0.038785\n",
              "click_os              -0.027354 -0.035183  ...      0.016910            -0.018690\n",
              "click_country         -0.005753 -0.025436  ...      0.283838             0.007113\n",
              "click_region          -0.001063 -0.019286  ...      1.000000             0.017859\n",
              "click_referrer_type   -0.008196  0.061559  ...      0.017859             1.000000\n",
              "\n",
              "[13 rows x 13 columns]"
            ]
          },
          "metadata": {},
          "execution_count": 43
        }
      ]
    },
    {
      "cell_type": "markdown",
      "metadata": {
        "id": "yQw-vr-YHnB4"
      },
      "source": [
        "> Observons plus particulièrement les corrélations entre la colonne **user_id** et les autres colonnes sachnat qu'on définit le degré de corrélation suivant l'échelle ci-dessous :\n",
        "\n",
        "  * 0.00-0.19 “très faible”\n",
        "  *  0.20-0.39 “faible”\n",
        "  * 0.40-0.59 “modéré”\n",
        "  * 0.60-0.79 “fort”\n",
        "  * 0.80-1.00 “ très fort”"
      ]
    },
    {
      "cell_type": "code",
      "metadata": {
        "id": "5LImJtuvHoOT",
        "colab": {
          "base_uri": "https://localhost:8080/"
        },
        "outputId": "d7a095c6-5b6e-451f-f9ab-3fad383b4c08"
      },
      "source": [
        "correlations = data_click_df.corr()['user_id'].sort_values()\n",
        "\n",
        "print('Fortes corrélations positives:\\n', correlations.tail(15))\n",
        "print('\\nFortes corrélations négatives:\\n', correlations.head(15))"
      ],
      "execution_count": null,
      "outputs": [
        {
          "output_type": "stream",
          "name": "stdout",
          "text": [
            "Fortes corrélations positives:\n",
            " session_size          -0.120516\n",
            "click_os              -0.035183\n",
            "click_country         -0.025436\n",
            "click_region          -0.019286\n",
            "click_deviceGroup     -0.001164\n",
            "click_article_id       0.002783\n",
            "click_environment      0.010154\n",
            "click_referrer_type    0.061559\n",
            "click_timestamp        0.298206\n",
            "session_start          0.298914\n",
            "session_id             0.298914\n",
            "Unnamed: 0             0.309581\n",
            "user_id                1.000000\n",
            "Name: user_id, dtype: float64\n",
            "\n",
            "Fortes corrélations négatives:\n",
            " session_size          -0.120516\n",
            "click_os              -0.035183\n",
            "click_country         -0.025436\n",
            "click_region          -0.019286\n",
            "click_deviceGroup     -0.001164\n",
            "click_article_id       0.002783\n",
            "click_environment      0.010154\n",
            "click_referrer_type    0.061559\n",
            "click_timestamp        0.298206\n",
            "session_start          0.298914\n",
            "session_id             0.298914\n",
            "Unnamed: 0             0.309581\n",
            "user_id                1.000000\n",
            "Name: user_id, dtype: float64\n"
          ]
        }
      ]
    },
    {
      "cell_type": "markdown",
      "metadata": {
        "id": "wT22YgybIHQh"
      },
      "source": [
        "> <font color='red'> Il y a de très faibles corrélations cependant les variables **session_id et session_start** sont les plus correlées positivement à **user_id** mais négativement si on prend leurs valeurs absolues.\n",
        " De plus, **click_article_id, click_referrer_type, click_timestamp** sont les plus correlés négativement à **user_id.**</font>"
      ]
    },
    {
      "cell_type": "markdown",
      "metadata": {
        "id": "XqVvyXqgKfcq"
      },
      "source": [
        "* Affichage d'un heatmap pour la visualisation des corrélations avec user_id"
      ]
    },
    {
      "cell_type": "code",
      "metadata": {
        "id": "zCUYuMTsK6tG",
        "colab": {
          "base_uri": "https://localhost:8080/"
        },
        "outputId": "695a1319-70b6-428e-8652-11b5ac7136aa"
      },
      "source": [
        "ext_data = data_click_df[['user_id', 'click_article_id', 'session_size',\n",
        "                          'session_id', 'session_start']]\n",
        "\n",
        "ext_data_corrs = ext_data.corr()\n",
        "ext_data_corrs"
      ],
      "execution_count": null,
      "outputs": [
        {
          "output_type": "execute_result",
          "data": {
            "text/html": [
              "<div>\n",
              "<style scoped>\n",
              "    .dataframe tbody tr th:only-of-type {\n",
              "        vertical-align: middle;\n",
              "    }\n",
              "\n",
              "    .dataframe tbody tr th {\n",
              "        vertical-align: top;\n",
              "    }\n",
              "\n",
              "    .dataframe thead th {\n",
              "        text-align: right;\n",
              "    }\n",
              "</style>\n",
              "<table border=\"1\" class=\"dataframe\">\n",
              "  <thead>\n",
              "    <tr style=\"text-align: right;\">\n",
              "      <th></th>\n",
              "      <th>user_id</th>\n",
              "      <th>click_article_id</th>\n",
              "      <th>session_size</th>\n",
              "      <th>session_id</th>\n",
              "      <th>session_start</th>\n",
              "    </tr>\n",
              "  </thead>\n",
              "  <tbody>\n",
              "    <tr>\n",
              "      <th>user_id</th>\n",
              "      <td>1.000000</td>\n",
              "      <td>0.002783</td>\n",
              "      <td>-0.120516</td>\n",
              "      <td>0.298914</td>\n",
              "      <td>0.298914</td>\n",
              "    </tr>\n",
              "    <tr>\n",
              "      <th>click_article_id</th>\n",
              "      <td>0.002783</td>\n",
              "      <td>1.000000</td>\n",
              "      <td>-0.021707</td>\n",
              "      <td>0.050934</td>\n",
              "      <td>0.050934</td>\n",
              "    </tr>\n",
              "    <tr>\n",
              "      <th>session_size</th>\n",
              "      <td>-0.120516</td>\n",
              "      <td>-0.021707</td>\n",
              "      <td>1.000000</td>\n",
              "      <td>0.010378</td>\n",
              "      <td>0.010378</td>\n",
              "    </tr>\n",
              "    <tr>\n",
              "      <th>session_id</th>\n",
              "      <td>0.298914</td>\n",
              "      <td>0.050934</td>\n",
              "      <td>0.010378</td>\n",
              "      <td>1.000000</td>\n",
              "      <td>1.000000</td>\n",
              "    </tr>\n",
              "    <tr>\n",
              "      <th>session_start</th>\n",
              "      <td>0.298914</td>\n",
              "      <td>0.050934</td>\n",
              "      <td>0.010378</td>\n",
              "      <td>1.000000</td>\n",
              "      <td>1.000000</td>\n",
              "    </tr>\n",
              "  </tbody>\n",
              "</table>\n",
              "</div>"
            ],
            "text/plain": [
              "                   user_id  click_article_id  ...  session_id  session_start\n",
              "user_id           1.000000          0.002783  ...    0.298914       0.298914\n",
              "click_article_id  0.002783          1.000000  ...    0.050934       0.050934\n",
              "session_size     -0.120516         -0.021707  ...    0.010378       0.010378\n",
              "session_id        0.298914          0.050934  ...    1.000000       1.000000\n",
              "session_start     0.298914          0.050934  ...    1.000000       1.000000\n",
              "\n",
              "[5 rows x 5 columns]"
            ]
          },
          "metadata": {},
          "execution_count": 45
        }
      ]
    },
    {
      "cell_type": "code",
      "metadata": {
        "id": "jaml4EEgLVni",
        "colab": {
          "base_uri": "https://localhost:8080/"
        },
        "outputId": "5beab8bf-9e00-43ec-c4a1-c93c63ccb9b7"
      },
      "source": [
        "plt.figure(figsize=(8, 6))\n",
        "sns.heatmap(ext_data_corrs, cmap=\"YlGnBu\",\n",
        "            vmin=-0.25, annot=True, vmax=0.6, linewidths=.5)\n",
        "plt.title('Heatmap de corrélation')\n",
        "plt.show()"
      ],
      "execution_count": null,
      "outputs": [
        {
          "output_type": "display_data",
          "data": {
            "image/png": "[encoded data removed]",
            "text/plain": [
              "<Figure size 576x432 with 2 Axes>"
            ]
          },
          "metadata": {}
        }
      ]
    },
    {
      "cell_type": "markdown",
      "metadata": {
        "id": "rbRlm8WcNJn3"
      },
      "source": [
        "* Variables polynômiales\n",
        "\n",
        "> Pour augmenter l'influence et la corrélation des variables **session_id et session_start** avec **user_id**,\n",
        "  on va former de nouvelles variables qui sont des polynômes des variables initiales. \n",
        "  Dans notre cas, on va utiliser le degré d=3 afin d'obtenir de nouvelles variables qui sont le produit de l'interaction entre ces premières variables (**ex : session_id x session_start^2**).\n",
        "> La classe **PolynomialFeatures** de **sklearn** permet de générer de telles variables polynômiales."
      ]
    },
    {
      "cell_type": "code",
      "metadata": {
        "id": "-2fOviKRNlOK",
        "colab": {
          "base_uri": "https://localhost:8080/"
        },
        "outputId": "d75f6129-908a-46e6-b986-3cce8f0d8d31"
      },
      "source": [
        "from sklearn.preprocessing import PolynomialFeatures\n",
        "from sklearn.impute import SimpleImputer\n",
        "\n",
        "\n",
        "poly_features = data_click_df[['user_id', 'click_article_id', 'session_size',\n",
        "                               'session_id', 'session_start']]\n",
        "\n",
        "poly_user = poly_features['user_id']\n",
        "poly_article = poly_features['click_article_id']\n",
        "\n",
        "\n",
        "poly_features = poly_features.drop(columns=['user_id', 'click_article_id'])\n",
        "\n",
        "poly_transformer = PolynomialFeatures(degree=3)\n",
        "poly_transformer.fit(poly_features)\n",
        "\n",
        "poly_features = poly_transformer.transform(poly_features)\n",
        "print('Forme des variables polynômiales du fichier : ',\n",
        "      poly_features.shape)"
      ],
      "execution_count": null,
      "outputs": [
        {
          "output_type": "stream",
          "name": "stdout",
          "text": [
            "Forme des variables polynômiales du fichier :  (2988181, 20)\n"
          ]
        }
      ]
    },
    {
      "cell_type": "markdown",
      "metadata": {
        "id": "9PpPfhLaPBJC"
      },
      "source": [
        "> <font color='green'> On est passé de 5 variables à 20 variables polynômiales de degré inférieures ou égales à 3.</font>"
      ]
    },
    {
      "cell_type": "code",
      "metadata": {
        "id": "dDt_qxlYOjnp",
        "colab": {
          "base_uri": "https://localhost:8080/"
        },
        "outputId": "a8c64e83-627a-4219-f296-8179758a60c7"
      },
      "source": [
        "poly_transformer.get_feature_names(input_features=['session_size',\n",
        "                                                   'session_id',\n",
        "                                                   'session_start'])[:20]"
      ],
      "execution_count": null,
      "outputs": [
        {
          "output_type": "execute_result",
          "data": {
            "text/plain": [
              "['1',\n",
              " 'session_size',\n",
              " 'session_id',\n",
              " 'session_start',\n",
              " 'session_size^2',\n",
              " 'session_size session_id',\n",
              " 'session_size session_start',\n",
              " 'session_id^2',\n",
              " 'session_id session_start',\n",
              " 'session_start^2',\n",
              " 'session_size^3',\n",
              " 'session_size^2 session_id',\n",
              " 'session_size^2 session_start',\n",
              " 'session_size session_id^2',\n",
              " 'session_size session_id session_start',\n",
              " 'session_size session_start^2',\n",
              " 'session_id^3',\n",
              " 'session_id^2 session_start',\n",
              " 'session_id session_start^2',\n",
              " 'session_start^3']"
            ]
          },
          "metadata": {},
          "execution_count": 48
        }
      ]
    },
    {
      "cell_type": "code",
      "metadata": {
        "id": "kQXyzOVdSlb7",
        "colab": {
          "base_uri": "https://localhost:8080/"
        },
        "outputId": "70745b84-14ec-4976-f445-0c83a22d3ed6"
      },
      "source": [
        "column_1 = poly_transformer.get_feature_names(['session_size',\n",
        "                                               'session_id',\n",
        "                                               'session_start'])\n",
        "\n",
        "poly_features = pd.DataFrame(poly_features,\n",
        "                             columns=column_1)\n",
        "\n",
        "poly_features['user_id'] = poly_user\n",
        "poly_features['click_article_id'] = poly_article\n",
        "\n",
        "\n",
        "poly_corrs = poly_features.corr()['user_id'].sort_values()\n",
        "\n",
        "print(poly_corrs.head(10))\n",
        "print(poly_corrs.tail(5))"
      ],
      "execution_count": null,
      "outputs": [
        {
          "output_type": "stream",
          "name": "stdout",
          "text": [
            "session_size                            -0.120516\n",
            "session_size session_start              -0.120452\n",
            "session_size session_id                 -0.120452\n",
            "session_size session_start^2            -0.120388\n",
            "session_size session_id session_start   -0.120388\n",
            "session_size session_id^2               -0.120388\n",
            "session_size^2                          -0.042910\n",
            "session_size^2 session_start            -0.042903\n",
            "session_size^2 session_id               -0.042903\n",
            "session_size^3                          -0.016561\n",
            "Name: user_id, dtype: float64\n",
            "session_id^2     0.298898\n",
            "session_start    0.298914\n",
            "session_id       0.298914\n",
            "user_id          1.000000\n",
            "1                     NaN\n",
            "Name: user_id, dtype: float64\n"
          ]
        }
      ]
    },
    {
      "cell_type": "code",
      "metadata": {
        "id": "Ylhh94vZPlvU",
        "colab": {
          "base_uri": "https://localhost:8080/"
        },
        "outputId": "5c726d9a-5fd8-4c21-8603-6b90bd3a3d97"
      },
      "source": [
        "data_click_poly = pd.DataFrame(poly_features)\n",
        "\n",
        "print('Forme du fichier train avec les var. polynômiales : ',\n",
        "      data_click_poly.shape)"
      ],
      "execution_count": null,
      "outputs": [
        {
          "output_type": "stream",
          "name": "stdout",
          "text": [
            "Forme du fichier train avec les var. polynômiales :  (2988181, 22)\n"
          ]
        }
      ]
    },
    {
      "cell_type": "code",
      "metadata": {
        "id": "aKjTtIY-U4Fg"
      },
      "source": [
        "data = Dataset.load_from_df(data_click_poly[['user_id', 'click_article_id', 'session_size session_id']], reader)\n",
        "gs.fit(data)"
      ],
      "execution_count": null,
      "outputs": []
    },
    {
      "cell_type": "code",
      "metadata": {
        "id": "0A2JWT8aY7eZ",
        "colab": {
          "base_uri": "https://localhost:8080/"
        },
        "outputId": "584453ae-7365-49a3-d30e-6b70734f19b0"
      },
      "source": [
        "print(gs.best_score[\"rmse\"])\n",
        "print(gs.best_params[\"rmse\"])"
      ],
      "execution_count": null,
      "outputs": [
        {
          "output_type": "stream",
          "name": "stdout",
          "text": [
            "8348322427522661.0\n",
            "{'n_epochs': 5, 'lr_all': 0.002, 'reg_all': 0.4}\n"
          ]
        }
      ]
    },
    {
      "cell_type": "code",
      "metadata": {
        "id": "tDNXGl-3ZHxD",
        "colab": {
          "base_uri": "https://localhost:8080/"
        },
        "outputId": "c88987a9-80a5-4ed9-87f3-5eaa4a2e401c"
      },
      "source": [
        "cross_validate(algo_svd, data, measures=['RMSE', 'MAE'], cv=5, verbose=True)"
      ],
      "execution_count": null,
      "outputs": [
        {
          "output_type": "stream",
          "name": "stdout",
          "text": [
            "Evaluating RMSE, MAE of algorithm SVD on 5 split(s).\n",
            "\n",
            "                  Fold 1  Fold 2  Fold 3  Fold 4  Fold 5  Mean    Std     \n",
            "RMSE (testset)    8307794767713291.00008365020124849045.00008363493244284239.00008391483334904269.00008314278328844308.00008348413960119030.000032166071182490.1680\n",
            "MAE (testset)     5881521337546082.00005880664052373838.00005890532973715627.00005882579992820841.00005874697592545580.00005881999189800394.00005069261430557.6865\n",
            "Fit time          123.72  125.68  125.53  126.10  125.32  125.27  0.81    \n",
            "Test time         7.01    8.04    7.02    6.94    6.96    7.19    0.42    \n"
          ]
        },
        {
          "output_type": "execute_result",
          "data": {
            "text/plain": [
              "{'fit_time': (123.72462844848633,\n",
              "  125.68379712104797,\n",
              "  125.53120374679565,\n",
              "  126.09755635261536,\n",
              "  125.31898522377014),\n",
              " 'test_mae': array([5.88152134e+15, 5.88066405e+15, 5.89053297e+15, 5.88257999e+15,\n",
              "        5.87469759e+15]),\n",
              " 'test_rmse': array([8.30779477e+15, 8.36502012e+15, 8.36349324e+15, 8.39148333e+15,\n",
              "        8.31427833e+15]),\n",
              " 'test_time': (7.005195617675781,\n",
              "  8.040236711502075,\n",
              "  7.016786336898804,\n",
              "  6.936713933944702,\n",
              "  6.964324235916138)}"
            ]
          },
          "metadata": {},
          "execution_count": 53
        }
      ]
    },
    {
      "cell_type": "markdown",
      "metadata": {
        "id": "RoK1IGpZFp7f"
      },
      "source": [
        "# 6. Comparaison des différents modèles\n",
        "\n",
        "On sauvegarde le modèle qui a le meilleur score de IoU de validation. Le score **Intersection over Union** sert à mésurer l'adéquation entre l'image segmentée et l'image réelle, elle est plus adapté pour la segmentation sémantique que ne peut l'être la précision."
      ]
    }
  ]
}